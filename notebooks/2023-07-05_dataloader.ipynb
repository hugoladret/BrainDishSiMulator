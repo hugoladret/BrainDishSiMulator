{
 "cells": [
  {
   "cell_type": "code",
   "execution_count": 1,
   "id": "ba3f27ca",
   "metadata": {},
   "outputs": [],
   "source": [
    "import numpy as np\n",
    "import matplotlib.pyplot as plt\n",
    "\n",
    "import os\n",
    "import fnmatch\n",
    "import sys\n",
    "import h5py\n",
    "import pickle\n",
    "import pandas as pd\n",
    "from typing import Dict, List, Any, Tuple\n",
    "from tqdm import tqdm\n",
    "import torch \n",
    "\n",
    "\n",
    "from scipy.spatial import distance\n",
    "\n",
    "import warnings # highly illegal move to make pandas compliant\n",
    "warnings.simplefilter(action='ignore', category=FutureWarning)"
   ]
  },
  {
   "cell_type": "code",
   "execution_count": 2,
   "id": "c14ce067",
   "metadata": {},
   "outputs": [],
   "source": [
    "import sys\n",
    "sys.path.append('../code/utils')  # Add the utils directory to the Python path\n",
    "\n",
    "import utils_data, utils_spikes, utils_events"
   ]
  },
  {
   "attachments": {},
   "cell_type": "markdown",
   "id": "a91b1c31",
   "metadata": {},
   "source": [
    "# Now that we have seen that the network is learning, it's time to create a dataloader to send this to PyTorch"
   ]
  },
  {
   "cell_type": "code",
   "execution_count": 3,
   "id": "b8a59e4d",
   "metadata": {},
   "outputs": [],
   "source": [
    "# Parameters \n",
    "chip_id = 9501 # experiment ID\n",
    "chip_session = 0 # 2 for post-training, 0 for pre-training\n",
    "\n",
    "# Stable parameters\n",
    "data_path = '../data/cortical_labs_data/' # path to data\n",
    "fs = 20000 # sampling frequency\n",
    "binsize = 10 # ms, bin size for spike counts\n",
    "array_size = 1024 # number of electrode in the array"
   ]
  },
  {
   "cell_type": "code",
   "execution_count": 4,
   "id": "0f4f0488",
   "metadata": {},
   "outputs": [
    {
     "name": "stderr",
     "output_type": "stream",
     "text": [
      "Loading data...: 100%|██████████| 29/29 [00:01<00:00, 26.33it/s]\n"
     ]
    },
    {
     "name": "stdout",
     "output_type": "stream",
     "text": [
      "Stimulation mode: full game\n"
     ]
    }
   ],
   "source": [
    "# Loading data and getting the spikes\n",
    "full_data = utils_data.read_maxwell_h5(data_path)\n",
    "\n",
    "data = utils_data.Get_channel_spiketimes(full_data)\n",
    "data['session'] = data['session'].map(str)\n",
    "data['id'] = data[['chip_id', 'session', 'date']].agg('-'.join, axis=1)\n",
    "data[\"session\"] = pd.to_numeric(data[\"session\"])\n",
    "\n",
    "subset = data[(data['chip_id'] == str(chip_id)) & (data['session'] == chip_session)]\n",
    "\n",
    "# Loading events\n",
    "filename = utils_events. find_file(data_path, str(chip_id), str(chip_session))\n",
    "events = utils_events.load_event_txt(filename)"
   ]
  },
  {
   "cell_type": "code",
   "execution_count": 5,
   "id": "b10b6fb4",
   "metadata": {},
   "outputs": [],
   "source": [
    "# Extracting the spike times into a list and converting to seconds\n",
    "spiketimes_list = []\n",
    "for i in range(array_size) :\n",
    "    spiketimes = subset['spike_times'].iloc[0]['channel_'+str(i)]\n",
    "    spiketimes_list.append(spiketimes.to_numpy()/fs)"
   ]
  },
  {
   "cell_type": "code",
   "execution_count": 6,
   "id": "e9de7939",
   "metadata": {},
   "outputs": [],
   "source": [
    "# Extracting the electrode mapping \n",
    "xs = subset['x_coordinates'].iloc[0]\n",
    "ys = subset['y_coordinates'].iloc[0]\n",
    "\n",
    "chan_idx = [int(x.split('_')[1]) for x in xs.keys()]\n",
    "chan_xs = np.asarray(list(xs.values()))\n",
    "chan_ys = np.asarray(list(ys.values()))\n",
    "#spiketimes_array = np.asarray(spiketimes_list, dtype = object)\n",
    "\n",
    "coo_array = np.vstack((chan_idx, chan_xs, chan_ys)).swapaxes(0,1) # this is linear in chan_idx space\n",
    "rows_with_nan = np.isnan(coo_array).any(axis=1) # given above's linearity, this gives chan_idx with nans\n",
    "\n",
    "# Delete electrodes without localization, also delete the spiketimes of these electrodes\n",
    "coo_array = coo_array[~rows_with_nan]\n",
    "spiketimes_list = np.asarray(spiketimes_list, dtype = object)[~rows_with_nan]\n",
    "\n",
    "# Splitting sensory-motor on y axis\n",
    "y_halfway = np.max(coo_array[:,2])/2\n",
    "\n",
    "sensory_idx = coo_array[:, 2] <= y_halfway\n",
    "motor_idx = coo_array[:, 2] > y_halfway\n",
    "\n",
    "sensory_coo = coo_array[sensory_idx]\n",
    "motor_coo = coo_array[motor_idx]\n",
    "sensory_spikes = spiketimes_list[sensory_idx]\n",
    "motor_spikes = spiketimes_list[motor_idx]\n"
   ]
  },
  {
   "cell_type": "code",
   "execution_count": 7,
   "id": "ea218642",
   "metadata": {},
   "outputs": [],
   "source": [
    "# Define the halfway point on the x-axis in the motor region\n",
    "x_halfway_motor = np.max(motor_coo[:, 1])/2\n",
    "\n",
    "# Define indices to split the motor region into left and right\n",
    "left_idx = motor_coo[:, 1] <= x_halfway_motor\n",
    "right_idx = motor_coo[:, 1] > x_halfway_motor\n",
    "\n",
    "# Split motor_coo into left and right regions\n",
    "left_coo = motor_coo[left_idx]\n",
    "right_coo = motor_coo[right_idx]\n",
    "\n",
    "# Split motor_spikes into left and right regions\n",
    "left_spikes = motor_spikes[left_idx]\n",
    "right_spikes = motor_spikes[right_idx]\n",
    "\n",
    "\n",
    "# Define the halfway point on the x-axis for the left region\n",
    "x_halfway_left = (np.min(left_coo[:, 1]) + np.max(left_coo[:, 1]))/2\n",
    "\n",
    "# Define indices to split the left region into up and down\n",
    "up1_idx = left_coo[:, 1] <= x_halfway_left\n",
    "down1_idx = left_coo[:, 1] > x_halfway_left\n",
    "\n",
    "# Split left_coo into up1 and down1 regions\n",
    "up1_coo = left_coo[up1_idx]\n",
    "down1_coo = left_coo[down1_idx]\n",
    "\n",
    "# Split left_spikes into up1 and down1 regions\n",
    "up1_spikes = left_spikes[up1_idx]\n",
    "down1_spikes = left_spikes[down1_idx]\n",
    "\n",
    "\n",
    "# Define the halfway point on the x-axis for the right region\n",
    "x_halfway_right = (np.min(right_coo[:, 1]) + np.max(right_coo[:, 1]))/2\n",
    "\n",
    "# Define indices to split the right region into up and down\n",
    "up2_idx = right_coo[:, 1] <= x_halfway_right\n",
    "down2_idx = right_coo[:, 1] > x_halfway_right\n",
    "\n",
    "# Split right_coo into up2 and down2 regions\n",
    "up2_coo = right_coo[up2_idx]\n",
    "down2_coo = right_coo[down2_idx]\n",
    "\n",
    "# Split right_spikes into up2 and down2 regions\n",
    "up2_spikes = right_spikes[up2_idx]\n",
    "down2_spikes = right_spikes[down2_idx]\n"
   ]
  },
  {
   "attachments": {},
   "cell_type": "markdown",
   "id": "e1955bfb",
   "metadata": {},
   "source": [
    "# Just some sanity check"
   ]
  },
  {
   "cell_type": "code",
   "execution_count": 8,
   "id": "407f14a5",
   "metadata": {},
   "outputs": [
    {
     "data": {
      "text/plain": [
       "<matplotlib.collections.PathCollection at 0x2008bfd56a0>"
      ]
     },
     "execution_count": 8,
     "metadata": {},
     "output_type": "execute_result"
    },
    {
     "data": {
      "image/png": "[encoded data removed]",
      "text/plain": [
       "<Figure size 360x360 with 1 Axes>"
      ]
     },
     "metadata": {
      "needs_background": "light"
     },
     "output_type": "display_data"
    }
   ],
   "source": [
    "fig, ax = plt.subplots(figsize = (5,5))\n",
    "plt.scatter(coo_array[:,1]  , coo_array[:,2])\n",
    "plt.scatter(sensory_coo[:,1]  , sensory_coo[:,2], c = 'r')\n",
    "plt.scatter(motor_coo[:,1]  , motor_coo[:,2], c = 'g')"
   ]
  },
  {
   "cell_type": "code",
   "execution_count": 9,
   "id": "8dafc6b3",
   "metadata": {},
   "outputs": [
    {
     "data": {
      "text/plain": [
       "<matplotlib.collections.PathCollection at 0x2008bf8e550>"
      ]
     },
     "execution_count": 9,
     "metadata": {},
     "output_type": "execute_result"
    },
    {
     "data": {
      "image/png": "[encoded data removed]",
      "text/plain": [
       "<Figure size 360x360 with 1 Axes>"
      ]
     },
     "metadata": {
      "needs_background": "light"
     },
     "output_type": "display_data"
    }
   ],
   "source": [
    "fig, ax = plt.subplots(figsize = (5,5))\n",
    "plt.scatter(coo_array[:,1]  , coo_array[:,2])\n",
    "map_up = plt.cm.gray(np.linspace(.4, .8, 2))\n",
    "plt.scatter(up2_coo[:,1]  , up2_coo[:,2], color = map_up[0])\n",
    "plt.scatter(up1_coo[:,1]  , up1_coo[:,2], color = map_up[1])\n",
    "# same but for down coo \n",
    "map_down = plt.cm.magma(np.linspace(.2, .6, 2))\n",
    "plt.scatter(down2_coo[:,1]  , down2_coo[:,2], color = map_down[0])\n",
    "plt.scatter(down1_coo[:,1]  , down1_coo[:,2], color = map_down[1])"
   ]
  },
  {
   "attachments": {},
   "cell_type": "markdown",
   "id": "853c291f",
   "metadata": {},
   "source": [
    "# Now we bin and torch them"
   ]
  },
  {
   "cell_type": "code",
   "execution_count": 10,
   "id": "6ca0986f",
   "metadata": {},
   "outputs": [
    {
     "name": "stderr",
     "output_type": "stream",
     "text": [
      "Binning sensory channels: 100%|██████████| 500/500 [00:01<00:00, 465.01it/s]\n",
      "C:\\Users\\skorm\\AppData\\Local\\Temp\\ipykernel_3496\\1471344466.py:11: UserWarning: Creating a tensor from a list of numpy.ndarrays is extremely slow. Please consider converting the list to a single numpy.ndarray with numpy.array() before converting to a tensor. (Triggered internally at  C:\\actions-runner\\_work\\pytorch\\pytorch\\builder\\windows\\pytorch\\torch\\csrc\\utils\\tensor_new.cpp:204.)\n",
      "  return torch.tensor(binned_spikes)\n",
      "Binning up1 channels: 100%|██████████| 100/100 [00:00<00:00, 538.67it/s]\n",
      "Binning down1 channels: 100%|██████████| 100/100 [00:00<00:00, 548.86it/s]\n",
      "Binning up2 channels: 100%|██████████| 100/100 [00:00<00:00, 377.27it/s]\n",
      "Binning down2 channels: 100%|██████████| 100/100 [00:00<00:00, 420.00it/s]\n"
     ]
    }
   ],
   "source": [
    "# Function to convert list of spike times to bins\n",
    "def spike_times_to_bins(spike_times_list, bin_width_ms, max_time_ms, spike_tag):\n",
    "    bin_edges = np.arange(0, max_time_ms + bin_width_ms, bin_width_ms)\n",
    "    binned_spikes = []\n",
    "    for spikes in tqdm(spike_times_list, 'Binning %s channels' % spike_tag):\n",
    "        # Convert spike times to milliseconds and compute histogram\n",
    "        spikes_ms = spikes * 1000\n",
    "        counts, _ = np.histogram(spikes_ms, bins=bin_edges)\n",
    "        binned_spikes.append(counts)\n",
    "    # Convert to tensor\n",
    "    return torch.tensor(binned_spikes)\n",
    "\n",
    "# Find maximum time across all spike lists\n",
    "max_time_ms = max(max(max(spikes) for spikes in spike_list)*1000 for spike_list in [sensory_spikes, up1_spikes, up2_spikes, down1_spikes, down2_spikes])\n",
    "\n",
    "# Create binned spikes tensor for each region\n",
    "sensory_spikes_binned = spike_times_to_bins(sensory_spikes, 10, max_time_ms, spike_tag = 'sensory')\n",
    "up1_spikes_binned = spike_times_to_bins(up1_spikes, 10, max_time_ms, spike_tag = 'up1')\n",
    "down1_spikes_binned = spike_times_to_bins(down1_spikes, 10, max_time_ms, spike_tag='down1')\n",
    "up2_spikes_binned = spike_times_to_bins(up2_spikes, 10, max_time_ms, spike_tag = 'up2')\n",
    "down2_spikes_binned = spike_times_to_bins(down2_spikes, 10, max_time_ms, spike_tag = 'down2')"
   ]
  },
  {
   "cell_type": "code",
   "execution_count": 11,
   "id": "6de041ba",
   "metadata": {},
   "outputs": [
    {
     "name": "stdout",
     "output_type": "stream",
     "text": [
      "The sensory_spikes_binned tensor does not contain a value greater than one.\n",
      "The up1_spikes_binned tensor does not contain a value greater than one.\n",
      "The down1_spikes_binned tensor does not contain a value greater than one.\n",
      "The up2_spikes_binned tensor does not contain a value greater than one.\n",
      "The down2_spikes_binned tensor does not contain a value greater than one.\n"
     ]
    }
   ],
   "source": [
    "# Define a function to check for values greater than 1\n",
    "def check_max_value(tensor, name):\n",
    "    if torch.max(tensor) > 1:\n",
    "        print(f\"The {name} tensor contains a value greater than one.\")\n",
    "    else:\n",
    "        print(f\"The {name} tensor does not contain a value greater than one.\")\n",
    "\n",
    "# Check each tensor\n",
    "check_max_value(sensory_spikes_binned, \"sensory_spikes_binned\")\n",
    "check_max_value(up1_spikes_binned, \"up1_spikes_binned\")\n",
    "check_max_value(down1_spikes_binned, \"down1_spikes_binned\")\n",
    "check_max_value(up2_spikes_binned, \"up2_spikes_binned\")\n",
    "check_max_value(down2_spikes_binned, \"down2_spikes_binned\")"
   ]
  },
  {
   "attachments": {},
   "cell_type": "markdown",
   "id": "603805cb",
   "metadata": {},
   "source": [
    "# Grape, now we pass everything into a function"
   ]
  },
  {
   "cell_type": "code",
   "execution_count": 12,
   "id": "cbc526c5",
   "metadata": {},
   "outputs": [],
   "source": [
    "# Parameters \n",
    "chip_id = 9501 # experiment ID\n",
    "chip_session = 0 # 2 for post-training, 0 for pre-training\n",
    "\n",
    "# Stable parameters\n",
    "data_path = '../data/cortical_labs_data/' # path to data\n",
    "fs = 20000 # sampling frequency\n",
    "binsize = 10 # ms, bin size for spike counts\n",
    "array_size = 1024 # number of electrode in the array"
   ]
  },
  {
   "cell_type": "code",
   "execution_count": 13,
   "id": "1e409015",
   "metadata": {},
   "outputs": [],
   "source": [
    "def load_file(chip_id, chip_session, data_path) :\n",
    "    # Loading data and getting the spikes\n",
    "    full_data = utils_data.read_maxwell_h5(data_path)\n",
    "\n",
    "    data = utils_data.Get_channel_spiketimes(full_data)\n",
    "    data['session'] = data['session'].map(str)\n",
    "    data['id'] = data[['chip_id', 'session', 'date']].agg('-'.join, axis=1)\n",
    "    data[\"session\"] = pd.to_numeric(data[\"session\"])\n",
    "\n",
    "    subset = data[(data['chip_id'] == str(chip_id)) & (data['session'] == chip_session)]\n",
    "\n",
    "    # Loading events\n",
    "    filename = utils_events. find_file(data_path, str(chip_id), str(chip_session))\n",
    "    events = utils_events.load_event_txt(filename)\n",
    "    \n",
    "    return subset, events"
   ]
  },
  {
   "cell_type": "code",
   "execution_count": 14,
   "id": "4f303a1a",
   "metadata": {},
   "outputs": [],
   "source": [
    "def get_spiketimes(data, array_size) :\n",
    "    # Extracting the spike times into a list and converting to seconds\n",
    "    spiketimes_list = []\n",
    "    for i in range(array_size) :\n",
    "        spiketimes = data['spike_times'].iloc[0]['channel_'+str(i)]\n",
    "        spiketimes_list.append(spiketimes.to_numpy()/fs)\n",
    "        \n",
    "    return np.asarray(spiketimes_list, dtype=object)"
   ]
  },
  {
   "cell_type": "code",
   "execution_count": 15,
   "id": "6e633a5b",
   "metadata": {},
   "outputs": [],
   "source": [
    "def get_electrode_regions(data, spiketimes, do_plot = False) :\n",
    "    # Extracting the electrode mapping \n",
    "    xs = data['x_coordinates'].iloc[0]\n",
    "    ys = data['y_coordinates'].iloc[0]\n",
    "\n",
    "    chan_idx = [int(x.split('_')[1]) for x in xs.keys()]\n",
    "    chan_xs = np.asarray(list(xs.values()))\n",
    "    chan_ys = np.asarray(list(ys.values()))\n",
    "    #spiketimes_array = np.asarray(spiketimes_list, dtype = object)\n",
    "\n",
    "    coo_array = np.vstack((chan_idx, chan_xs, chan_ys)).swapaxes(0,1) # this is linear in chan_idx space\n",
    "    rows_with_nan = np.isnan(coo_array).any(axis=1) # given above's linearity, this gives chan_idx with nans\n",
    "\n",
    "    # Delete electrodes without localization, also delete the spiketimes of these electrodes\n",
    "    coo_array = coo_array[~rows_with_nan]\n",
    "    spiketimes = spiketimes[~rows_with_nan]\n",
    "\n",
    "    # Splitting sensory-motor on y axis\n",
    "    y_halfway = np.max(coo_array[:,2])/2\n",
    "\n",
    "    sensory_idx = coo_array[:, 2] <= y_halfway\n",
    "    motor_idx = coo_array[:, 2] > y_halfway\n",
    "\n",
    "    sensory_coo = coo_array[sensory_idx]\n",
    "    motor_coo = coo_array[motor_idx]\n",
    "    sensory_spikes = spiketimes[sensory_idx]\n",
    "    motor_spikes = spiketimes[motor_idx]\n",
    "\n",
    "    # Define the halfway point on the x-axis in the motor region\n",
    "    x_halfway_motor = np.max(motor_coo[:, 1])/2\n",
    "\n",
    "    # Define indices to split the motor region into left and right\n",
    "    left_idx = motor_coo[:, 1] <= x_halfway_motor\n",
    "    right_idx = motor_coo[:, 1] > x_halfway_motor\n",
    "\n",
    "    # Split motor_coo into left and right regions\n",
    "    left_coo = motor_coo[left_idx]\n",
    "    right_coo = motor_coo[right_idx]\n",
    "\n",
    "    # Split motor_spikes into left and right regions\n",
    "    left_spikes = motor_spikes[left_idx]\n",
    "    right_spikes = motor_spikes[right_idx]\n",
    "\n",
    "\n",
    "    # Define the halfway point on the x-axis for the left region\n",
    "    x_halfway_left = (np.min(left_coo[:, 1]) + np.max(left_coo[:, 1]))/2\n",
    "\n",
    "    # Define indices to split the left region into up and down\n",
    "    up1_idx = left_coo[:, 1] <= x_halfway_left\n",
    "    down1_idx = left_coo[:, 1] > x_halfway_left\n",
    "\n",
    "    # Split left_coo into up1 and down1 regions\n",
    "    up1_coo = left_coo[up1_idx]\n",
    "    down1_coo = left_coo[down1_idx]\n",
    "\n",
    "    # Split left_spikes into up1 and down1 regions\n",
    "    up1_spikes = left_spikes[up1_idx]\n",
    "    down1_spikes = left_spikes[down1_idx]\n",
    "\n",
    "\n",
    "    # Define the halfway point on the x-axis for the right region\n",
    "    x_halfway_right = (np.min(right_coo[:, 1]) + np.max(right_coo[:, 1]))/2\n",
    "\n",
    "    # Define indices to split the right region into up and down\n",
    "    up2_idx = right_coo[:, 1] <= x_halfway_right\n",
    "    down2_idx = right_coo[:, 1] > x_halfway_right\n",
    "\n",
    "    # Split right_coo into up2 and down2 regions\n",
    "    up2_coo = right_coo[up2_idx]\n",
    "    down2_coo = right_coo[down2_idx]\n",
    "\n",
    "    # Split right_spikes into up2 and down2 regions\n",
    "    up2_spikes = right_spikes[up2_idx]\n",
    "    down2_spikes = right_spikes[down2_idx]\n",
    "    \n",
    "    # Sanity plot \n",
    "    if do_plot :\n",
    "        fig, ax = plt.subplots(figsize = (5,5))\n",
    "        map_up = plt.cm.gray(np.linspace(.4, .8, 2))\n",
    "        ax.scatter(up2_coo[:,1]  , up2_coo[:,2], color = map_up[0], label = 'up2')\n",
    "        ax.scatter(up1_coo[:,1]  , up1_coo[:,2], color = map_up[1], label = 'up1')\n",
    "        # same but for down coo \n",
    "        map_down = plt.cm.magma(np.linspace(.2, .6, 2))\n",
    "        ax.scatter(down2_coo[:,1]  , down2_coo[:,2], color = map_down[0], label = 'down2')\n",
    "        ax.scatter(down1_coo[:,1]  , down1_coo[:,2], color = map_down[1], label = 'down1')\n",
    "        ax.scatter(sensory_coo[:,1]  , sensory_coo[:,2], color = 'b', label = 'sensory')\n",
    "        plt.legend()\n",
    "        plt.title('Sanity check of the extracted electrode mapping')\n",
    "        plt.show()\n",
    "\n",
    "    return sensory_spikes, up1_spikes, up2_spikes, down1_spikes, down2_spikes"
   ]
  },
  {
   "cell_type": "code",
   "execution_count": null,
   "id": "8502c4d3",
   "metadata": {},
   "outputs": [],
   "source": [
    "def spike_times_to_bins(spike_times_list, bin_width_ms, max_time_ms, spike_tag):\n",
    "    bin_edges = np.arange(0, max_time_ms + bin_width_ms, bin_width_ms)\n",
    "    binned_spikes = []\n",
    "    for spikes in tqdm(spike_times_list, 'Binning %s channels' % spike_tag):\n",
    "        # Convert spike times to milliseconds and compute histogram\n",
    "        spikes_ms = spikes * 1000\n",
    "        counts, _ = np.histogram(spikes_ms, bins=bin_edges)\n",
    "        binned_spikes.append(counts)\n",
    "    # Convert to tensor\n",
    "    return torch.tensor(binned_spikes)"
   ]
  },
  {
   "cell_type": "code",
   "execution_count": 36,
   "id": "53f18e7e",
   "metadata": {},
   "outputs": [],
   "source": [
    "def check_binary(spike_tensor, name) :\n",
    "    if torch.max(spike_tensor) > 1:\n",
    "        raise ValueError('The tensor {} is not binary'.format(name))\n",
    "    else:\n",
    "        return True"
   ]
  },
  {
   "cell_type": "code",
   "execution_count": 22,
   "id": "e61b42fc",
   "metadata": {},
   "outputs": [
    {
     "name": "stderr",
     "output_type": "stream",
     "text": [
      "Loading data...: 100%|██████████| 29/29 [00:01<00:00, 23.56it/s]\n"
     ]
    },
    {
     "name": "stdout",
     "output_type": "stream",
     "text": [
      "Stimulation mode: full game\n"
     ]
    }
   ],
   "source": [
    "data_subset, events = load_file(chip_id, chip_session, data_path)"
   ]
  },
  {
   "cell_type": "code",
   "execution_count": 23,
   "id": "f9a69d79",
   "metadata": {},
   "outputs": [],
   "source": [
    "spiketimes = get_spiketimes(data_subset, array_size)"
   ]
  },
  {
   "cell_type": "code",
   "execution_count": 24,
   "id": "ca7cf36b",
   "metadata": {},
   "outputs": [
    {
     "data": {
      "image/png": "[encoded data removed]",
      "text/plain": [
       "<Figure size 360x360 with 1 Axes>"
      ]
     },
     "metadata": {
      "needs_background": "light"
     },
     "output_type": "display_data"
    }
   ],
   "source": [
    "sensory_spikes, up1_spikes, up2_spikes, down1_spikes, down2_spikes = get_electrode_regions(data_subset, spiketimes, do_plot = True)"
   ]
  },
  {
   "cell_type": "code",
   "execution_count": 25,
   "id": "fa64b8f5",
   "metadata": {},
   "outputs": [
    {
     "name": "stderr",
     "output_type": "stream",
     "text": [
      "Binning sensory channels: 100%|██████████| 500/500 [00:00<00:00, 513.01it/s]\n",
      "Binning up1 channels: 100%|██████████| 100/100 [00:00<00:00, 675.01it/s]\n",
      "Binning down1 channels: 100%|██████████| 100/100 [00:00<00:00, 701.58it/s]\n",
      "Binning up2 channels: 100%|██████████| 100/100 [00:00<00:00, 653.45it/s]\n",
      "Binning down2 channels: 100%|██████████| 100/100 [00:00<00:00, 666.51it/s]\n"
     ]
    }
   ],
   "source": [
    "# Find maximum time across all spike lists\n",
    "max_time_ms = max(max(max(spikes) for spikes in spike_list)*1000 for spike_list in [sensory_spikes, up1_spikes, up2_spikes, down1_spikes, down2_spikes])\n",
    "\n",
    "# Create binned spikes tensor for each region\n",
    "sensory_spikes_binned = spike_times_to_bins(sensory_spikes, 10, max_time_ms, spike_tag = 'sensory')\n",
    "up1_spikes_binned = spike_times_to_bins(up1_spikes, 10, max_time_ms, spike_tag = 'up1')\n",
    "down1_spikes_binned = spike_times_to_bins(down1_spikes, 10, max_time_ms, spike_tag='down1')\n",
    "up2_spikes_binned = spike_times_to_bins(up2_spikes, 10, max_time_ms, spike_tag = 'up2')\n",
    "down2_spikes_binned = spike_times_to_bins(down2_spikes, 10, max_time_ms, spike_tag = 'down2')"
   ]
  },
  {
   "cell_type": "code",
   "execution_count": 37,
   "id": "e08c3e99",
   "metadata": {},
   "outputs": [
    {
     "data": {
      "text/plain": [
       "True"
      ]
     },
     "execution_count": 37,
     "metadata": {},
     "output_type": "execute_result"
    }
   ],
   "source": [
    "check_binary(sensory_spikes_binned, \"sensory_spikes_binned\")\n",
    "check_binary(up1_spikes_binned, \"up1_spikes_binned\")\n",
    "check_binary(down1_spikes_binned, \"down1_spikes_binned\")\n",
    "check_binary(up2_spikes_binned, \"up2_spikes_binned\")\n",
    "check_binary(down2_spikes_binned, \"down2_spikes_binned\")"
   ]
  }
 ],
 "metadata": {
  "kernelspec": {
   "display_name": "Python 3 (ipykernel)",
   "language": "python",
   "name": "python3"
  },
  "language_info": {
   "codemirror_mode": {
    "name": "ipython",
    "version": 3
   },
   "file_extension": ".py",
   "mimetype": "text/x-python",
   "name": "python",
   "nbconvert_exporter": "python",
   "pygments_lexer": "ipython3",
   "version": "3.9.12"
  }
 },
 "nbformat": 4,
 "nbformat_minor": 5
}
