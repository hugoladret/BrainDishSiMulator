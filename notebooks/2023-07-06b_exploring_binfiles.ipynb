{
 "cells": [
  {
   "cell_type": "code",
   "execution_count": 11,
   "id": "ba3f27ca",
   "metadata": {},
   "outputs": [],
   "source": [
    "import numpy as np\n",
    "import matplotlib.pyplot as plt\n",
    "\n",
    "import snntorch as snn\n",
    "from snntorch import spikeplot as splt\n",
    "from snntorch import functional as SF\n",
    "import torch.nn as nn\n",
    "from torch.utils.data import DataLoader\n",
    "from torchvision import datasets, transforms\n",
    "\n",
    "import torch\n",
    "from torch.utils.data import Dataset, DataLoader\n",
    "\n",
    "from tqdm import tqdm \n",
    "import psweep as ps # <--\n",
    "import pandas as pd\n",
    "\n",
    "import warnings # highly illegal move to make pandas compliant\n",
    "warnings.simplefilter(action='ignore', category=FutureWarning)"
   ]
  },
  {
   "cell_type": "code",
   "execution_count": 12,
   "id": "c14ce067",
   "metadata": {},
   "outputs": [],
   "source": [
    "import sys\n",
    "sys.path.append('../code/utils')  # Add the utils directory to the Python path\n",
    "\n",
    "import utils_data, utils_spikes, utils_events, utils_tensor"
   ]
  },
  {
   "attachments": {},
   "cell_type": "markdown",
   "id": "a91b1c31",
   "metadata": {},
   "source": [
    "# We've also got binary replay files from cortical labs that could use some reverse engineering"
   ]
  },
  {
   "cell_type": "code",
   "execution_count": 13,
   "id": "b8a59e4d",
   "metadata": {},
   "outputs": [],
   "source": [
    "# Experiment specific parameters \n",
    "chip_id = 9501 # experiment ID\n",
    "chip_session = 0 # 2 for post-training, 0 for pre-training\n",
    "\n",
    "# Stable parameters\n",
    "data_path = '../data/cortical_labs_data/' # path to data\n",
    "fs = 20000 # sampling frequency\n",
    "binsize = 10 # ms, bin size for spike counts\n",
    "array_size = 1024 # number of electrode in the array\n",
    "\n",
    "# Torch parameters \n",
    "device = torch.device(\"cuda\") if torch.cuda.is_available() else torch.device(\"cpu\")\n",
    "len_trial = 100 # how long in bins is a trial (so in ms it's len_trial*binsize)"
   ]
  },
  {
   "cell_type": "code",
   "execution_count": 14,
   "id": "3687c072",
   "metadata": {},
   "outputs": [],
   "source": [
    "filename = data_path + '9501.2021-06-01.0.replay.bin'"
   ]
  },
  {
   "cell_type": "code",
   "execution_count": 15,
   "id": "d28a5b7e",
   "metadata": {},
   "outputs": [],
   "source": [
    "lines = []\n",
    "with open(filename, mode='rb') as file: \n",
    "    while True:\n",
    "        byte = file.read(8)\n",
    "        if not byte:\n",
    "            break\n",
    "        i = int.from_bytes(byte, byteorder='little')\n",
    "        lines.append(i)"
   ]
  },
  {
   "cell_type": "code",
   "execution_count": 16,
   "id": "421652e4",
   "metadata": {},
   "outputs": [
    {
     "data": {
      "image/png": "[encoded data removed]",
      "text/plain": [
       "<Figure size 432x288 with 1 Axes>"
      ]
     },
     "metadata": {
      "needs_background": "light"
     },
     "output_type": "display_data"
    },
    {
     "name": "stdout",
     "output_type": "stream",
     "text": [
      "count    6.000150e+05\n",
      "mean     2.771043e+18\n",
      "std      3.430268e+18\n",
      "min      0.000000e+00\n",
      "25%      1.133892e+09\n",
      "50%      1.829611e+16\n",
      "75%      4.724276e+18\n",
      "max      1.844196e+19\n",
      "Name: values, dtype: float64\n"
     ]
    }
   ],
   "source": [
    "# convert the list to a pandas DataFrame\n",
    "df = pd.DataFrame(lines, columns=['values'])\n",
    "\n",
    "# plot a histogram of the values\n",
    "df['values'].hist(bins=20)\n",
    "plt.show()\n",
    "\n",
    "# print out some summary statistics\n",
    "print(df['values'].describe())\n"
   ]
  }
 ],
 "metadata": {
  "kernelspec": {
   "display_name": "Python 3 (ipykernel)",
   "language": "python",
   "name": "python3"
  },
  "language_info": {
   "codemirror_mode": {
    "name": "ipython",
    "version": 3
   },
   "file_extension": ".py",
   "mimetype": "text/x-python",
   "name": "python",
   "nbconvert_exporter": "python",
   "pygments_lexer": "ipython3",
   "version": "3.9.12"
  }
 },
 "nbformat": 4,
 "nbformat_minor": 5
}
