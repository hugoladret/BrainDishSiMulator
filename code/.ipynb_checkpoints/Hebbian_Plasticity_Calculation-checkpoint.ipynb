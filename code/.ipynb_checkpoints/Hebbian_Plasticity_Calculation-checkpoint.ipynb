{
 "cells": [
  {
   "cell_type": "code",
   "execution_count": 10,
   "id": "b4c7e08f",
   "metadata": {},
   "outputs": [],
   "source": [
    "from scipy import stats, optimize, interpolate\n",
    "from scipy.stats import alexandergovern\n",
    "from scipy.stats import f_oneway\n",
    "import pandas as pd\n",
    "import numpy as np"
   ]
  },
  {
   "cell_type": "code",
   "execution_count": 2,
   "id": "e7b0487d",
   "metadata": {},
   "outputs": [],
   "source": [
    "# original_act = pd.read_pickle('Spike_Train_Prediction_Project/LocalEntropies_temporal&spatial_mean')\n",
    "# original_rest = pd.read_pickle('Spike_Train_Prediction_Project/LocalEntropies_temporal&spatial_rest_mean')\n"
   ]
  },
  {
   "cell_type": "code",
   "execution_count": 3,
   "id": "7d816a2a",
   "metadata": {},
   "outputs": [],
   "source": [
    "data_rest = pd.read_pickle('Spike_Train_Prediction_Project/spike_trains_all_rest')"
   ]
  },
  {
   "cell_type": "markdown",
   "id": "f4306f41",
   "metadata": {},
   "source": [
    "## Firing rate calculation\n",
    "#### Window size = 100 ms  = 2000 sample bins (sampling frequency = 20 kHz)"
   ]
  },
  {
   "cell_type": "markdown",
   "id": "e8a3e06c",
   "metadata": {},
   "source": [
    "## Rest:"
   ]
  },
  {
   "cell_type": "code",
   "execution_count": 4,
   "id": "6972a1c2",
   "metadata": {},
   "outputs": [],
   "source": [
    "new_list = data_rest['spike_times']\n",
    "for i in range(len(new_list)):    \n",
    "    for channel in new_list[i].keys():\n",
    "        new_list[i][channel] = new_list[i][channel] [new_list[i][channel] < 12000000]"
   ]
  },
  {
   "cell_type": "code",
   "execution_count": 5,
   "id": "32ec5895",
   "metadata": {},
   "outputs": [],
   "source": [
    "bin_size = 2000\n",
    "experiment_len = 6001 # 10 min * 60s * 20kHz / bin_size\n",
    "    \n",
    "all_firing_rates = []\n",
    "for i in range(len(new_list)):\n",
    "    channels_firings = []\n",
    "    for channel in new_list[i].keys():\n",
    "        firing_temp = [0]*experiment_len\n",
    "        for item in new_list[i][channel] /bin_size:\n",
    "            firing_temp[int(item)]+=1\n",
    "        channels_firings.append(firing_temp)\n",
    "    all_firing_rates.append(channels_firings)\n",
    "    \n",
    "           \n",
    "data_rest['firing_rates'] =  all_firing_rates    \n",
    "            "
   ]
  },
  {
   "cell_type": "code",
   "execution_count": 6,
   "id": "bfbb337f",
   "metadata": {},
   "outputs": [],
   "source": [
    "data_rest.to_pickle('Spike_Train_Prediction_Project/spike_trains_all_rest')"
   ]
  },
  {
   "cell_type": "code",
   "execution_count": null,
   "id": "0c96892e",
   "metadata": {},
   "outputs": [],
   "source": []
  },
  {
   "cell_type": "code",
   "execution_count": null,
   "id": "2abd1eee",
   "metadata": {},
   "outputs": [],
   "source": []
  },
  {
   "cell_type": "markdown",
   "id": "0b20f271",
   "metadata": {},
   "source": [
    "## Gameplay: "
   ]
  },
  {
   "cell_type": "markdown",
   "id": "860bcf5d",
   "metadata": {},
   "source": [
    "### Sampling 70 % of original data and saving the sampled files (complete dataset too large)"
   ]
  },
  {
   "cell_type": "code",
   "execution_count": null,
   "id": "bff2cf43",
   "metadata": {},
   "outputs": [],
   "source": [
    "data_original = pd.read_pickle('Spike_Train_Prediction_Project/spike_trains_all')\n"
   ]
  },
  {
   "cell_type": "code",
   "execution_count": 4,
   "id": "bb013d85",
   "metadata": {},
   "outputs": [],
   "source": [
    "df_percent = (data_original.sample(frac=0.7).reset_index())"
   ]
  },
  {
   "cell_type": "code",
   "execution_count": 5,
   "id": "0c1f5808",
   "metadata": {},
   "outputs": [],
   "source": [
    "df_percent.drop(['index'], axis = 1, inplace = True) \n"
   ]
  },
  {
   "cell_type": "code",
   "execution_count": 6,
   "id": "9e55e3fe",
   "metadata": {},
   "outputs": [],
   "source": [
    "new_list = df_percent['spike_times']\n",
    "for i in range(len(new_list)):    \n",
    "    for channel in new_list[i].keys():\n",
    "        new_list[i][channel] = new_list[i][channel] [new_list[i][channel] < 24000000]"
   ]
  },
  {
   "cell_type": "code",
   "execution_count": 7,
   "id": "9ebc38bf",
   "metadata": {},
   "outputs": [],
   "source": [
    "df_percent.to_pickle('Spike_Train_Prediction_Project/spike_trains_all_sampled')"
   ]
  },
  {
   "cell_type": "code",
   "execution_count": 10,
   "id": "568adce9",
   "metadata": {},
   "outputs": [],
   "source": [
    "new_list.to_pickle('Spike_Train_Prediction_Project/Only_spike_trains_all_sampled')"
   ]
  },
  {
   "cell_type": "code",
   "execution_count": null,
   "id": "5ba33752",
   "metadata": {},
   "outputs": [],
   "source": []
  },
  {
   "cell_type": "markdown",
   "id": "e1074be8",
   "metadata": {},
   "source": [
    "### Reloading the sampled files\n"
   ]
  },
  {
   "cell_type": "code",
   "execution_count": 2,
   "id": "2587ffb4",
   "metadata": {},
   "outputs": [],
   "source": [
    "new_list = pd.read_pickle('Spike_Train_Prediction_Project/Only_spike_trains_all_sampled')"
   ]
  },
  {
   "cell_type": "markdown",
   "id": "92fc11fa",
   "metadata": {},
   "source": [
    "### Firing rate calculation"
   ]
  },
  {
   "cell_type": "code",
   "execution_count": null,
   "id": "c676b599",
   "metadata": {},
   "outputs": [],
   "source": [
    "bin_size = 2000\n",
    "experiment_len = 12001 # 20 min * 60s * 20kHz / bin_size\n",
    "all_firing_rates = []\n",
    "for i in range(len(new_list)):\n",
    "    channels_firings = []\n",
    "    for channel in new_list[i].keys():\n",
    "        firing_temp = [0]*experiment_len\n",
    "        for item in new_list[i][channel] /bin_size:\n",
    "            firing_temp[int(item)]+=1\n",
    "        channels_firings.append(firing_temp)\n",
    "    all_firing_rates.append(channels_firings)\n",
    "    \n",
    "           \n",
    "# df_percent['firing_rates'] =  all_firing_rates    \n",
    "   \n",
    "    \n",
    "    "
   ]
  },
  {
   "cell_type": "code",
   "execution_count": 6,
   "id": "b846b1c5",
   "metadata": {},
   "outputs": [],
   "source": [
    "df_percent = pd.read_pickle('Spike_Train_Prediction_Project/spike_trains_all_sampled')\n",
    "df_percent['firing_rates'] =  all_firing_rates  "
   ]
  },
  {
   "cell_type": "code",
   "execution_count": 8,
   "id": "10247ec8",
   "metadata": {},
   "outputs": [],
   "source": [
    "df_percent.to_pickle('Spike_Train_Prediction_Project/spike_trains_all_sampled')"
   ]
  },
  {
   "cell_type": "code",
   "execution_count": null,
   "id": "c3105003",
   "metadata": {},
   "outputs": [],
   "source": []
  },
  {
   "cell_type": "code",
   "execution_count": null,
   "id": "957c6b16",
   "metadata": {},
   "outputs": [],
   "source": []
  },
  {
   "cell_type": "markdown",
   "id": "b6a96067",
   "metadata": {},
   "source": [
    "## CA calculations"
   ]
  },
  {
   "cell_type": "markdown",
   "id": "f8bf4ac5",
   "metadata": {},
   "source": [
    "### Baseline (Pre training) period: 10 minutes of rest\n"
   ]
  },
  {
   "cell_type": "code",
   "execution_count": 3,
   "id": "3dd7116c",
   "metadata": {},
   "outputs": [],
   "source": [
    "from scipy import stats, optimize, interpolate\n",
    "from scipy.stats import alexandergovern\n",
    "from scipy.stats import f_oneway\n",
    "import pandas as pd\n",
    "import numpy as np"
   ]
  },
  {
   "cell_type": "code",
   "execution_count": 48,
   "id": "92f9ae7a",
   "metadata": {},
   "outputs": [],
   "source": [
    "data = pd.read_pickle('Spike_Train_Prediction_Project/data_original')\n",
    "data_locs = data[['channel','x','y']]\n",
    "data_locs = data_locs.dropna()\n",
    "data_locs = data_locs.drop_duplicates()\n",
    "data_locs.reset_index(drop=True, inplace=True)"
   ]
  },
  {
   "cell_type": "code",
   "execution_count": 24,
   "id": "4c3c7634",
   "metadata": {},
   "outputs": [
    {
     "data": {
      "text/plain": [
       "4062.2999950766807"
      ]
     },
     "execution_count": 24,
     "metadata": {},
     "output_type": "execute_result"
    }
   ],
   "source": [
    "np.sqrt(np.max(data_locs['y'])**2 + np.max(data_locs['x'])**2)"
   ]
  },
  {
   "cell_type": "markdown",
   "id": "4b4b0e53",
   "metadata": {},
   "source": [
    "## Rest\n",
    "### C_pre (baseline) - all 10 minutes"
   ]
  },
  {
   "cell_type": "code",
   "execution_count": null,
   "id": "ef86f951",
   "metadata": {},
   "outputs": [],
   "source": [
    "data_rest = pd.read_pickle('Spike_Train_Prediction_Project/spike_trains_all_rest')"
   ]
  },
  {
   "cell_type": "code",
   "execution_count": 5,
   "id": "6de280b5",
   "metadata": {},
   "outputs": [],
   "source": [
    "## 5 min = 5*60/0.1 = 3000 time bins\n",
    "pre_cutoff = 6000\n",
    "CA_pres = []\n",
    "for culture in range(len(data_rest)):\n",
    "    CA_pre = np.zeros(shape=(1,2))\n",
    "    denom = 0\n",
    "    nom_x = 0\n",
    "    nom_y =0\n",
    "    for i in range(len(data_rest['spike_times'][culture])):\n",
    "        channel_num = int(list(data_rest['spike_times'][culture].keys())[i].split('_')[1])\n",
    "        x = data_locs[data_locs['channel']== channel_num] ['x']\n",
    "        y = data_locs[data_locs['channel']== channel_num] ['y']\n",
    "        if not x.empty:\n",
    "            denom += np.sum(np.array(data_rest['firing_rates'][culture][i])[0:pre_cutoff]) \n",
    "            nom_x += (np.sum(np.array(data_rest['firing_rates'][culture][i])[0:pre_cutoff])) * int(x)\n",
    "            nom_y += (np.sum(np.array(data_rest['firing_rates'][culture][i])[0:pre_cutoff])) * int(y)\n",
    "    CA_pre[:,0] = nom_x /denom\n",
    "    CA_pre[:,1] = nom_y /denom\n",
    "    CA_pres.append(CA_pre)\n",
    "data_rest['CA_pre'] = CA_pres"
   ]
  },
  {
   "cell_type": "code",
   "execution_count": 6,
   "id": "f33a1fab",
   "metadata": {},
   "outputs": [],
   "source": [
    "data_rest.to_pickle('Spike_Train_Prediction_Project/spike_trains_all_rest')"
   ]
  },
  {
   "cell_type": "markdown",
   "id": "d50581e8",
   "metadata": {},
   "source": [
    "## CA calculation window size:  5 min"
   ]
  },
  {
   "cell_type": "markdown",
   "id": "030bde29",
   "metadata": {},
   "source": [
    "### C_pre_1 & C_pre_2 (first and second 5 mins of rest)"
   ]
  },
  {
   "cell_type": "code",
   "execution_count": 49,
   "id": "ee447a29",
   "metadata": {},
   "outputs": [
    {
     "name": "stderr",
     "output_type": "stream",
     "text": [
      "/tmp/ipykernel_2748/2633173987.py:17: RuntimeWarning: invalid value encountered in long_scalars\n",
      "  CA_pre[:,0] = nom_x /denom\n",
      "/tmp/ipykernel_2748/2633173987.py:18: RuntimeWarning: invalid value encountered in long_scalars\n",
      "  CA_pre[:,1] = nom_y /denom\n",
      "/tmp/ipykernel_2748/2633173987.py:17: RuntimeWarning: invalid value encountered in long_scalars\n",
      "  CA_pre[:,0] = nom_x /denom\n",
      "/tmp/ipykernel_2748/2633173987.py:18: RuntimeWarning: invalid value encountered in long_scalars\n",
      "  CA_pre[:,1] = nom_y /denom\n"
     ]
    }
   ],
   "source": [
    "## 5 min = 5*60/0.1 = 3000 time bins\n",
    "pre_cutoff = 3000\n",
    "CA_pres = []\n",
    "for culture in range(len(data_rest)):\n",
    "    CA_pre = np.zeros(shape=(1,2))\n",
    "    denom = 0\n",
    "    nom_x = 0\n",
    "    nom_y =0\n",
    "    for i in range(len(data_rest['spike_times'][culture])):\n",
    "        channel_num = int(list(data_rest['spike_times'][culture].keys())[i].split('_')[1])\n",
    "        x = data_locs[data_locs['channel']== channel_num] ['x']\n",
    "        y = data_locs[data_locs['channel']== channel_num] ['y']\n",
    "        if not x.empty:\n",
    "            denom += np.sum(np.array(data_rest['firing_rates'][culture][i])[pre_cutoff:]) \n",
    "            nom_x += (np.sum(np.array(data_rest['firing_rates'][culture][i])[pre_cutoff:])) * int(x)\n",
    "            nom_y += (np.sum(np.array(data_rest['firing_rates'][culture][i])[pre_cutoff:])) * int(y)\n",
    "    CA_pre[:,0] = nom_x /denom\n",
    "    CA_pre[:,1] = nom_y /denom\n",
    "    CA_pres.append(CA_pre)\n",
    "data_rest['CA_pre2'] = CA_pres"
   ]
  },
  {
   "cell_type": "code",
   "execution_count": 50,
   "id": "04e52e7c",
   "metadata": {},
   "outputs": [],
   "source": [
    "data_rest.to_pickle('Spike_Train_Prediction_Project/spike_trains_all_rest')"
   ]
  },
  {
   "cell_type": "code",
   "execution_count": 52,
   "id": "173d8075",
   "metadata": {},
   "outputs": [],
   "source": [
    "## 5 min = 5*60/0.1 = 3000 time bins\n",
    "pre_cutoff = 3000\n",
    "CA_pres = []\n",
    "for culture in range(len(data_rest)):\n",
    "    CA_pre = np.zeros(shape=(1,2))\n",
    "    denom = 0\n",
    "    nom_x = 0\n",
    "    nom_y =0\n",
    "    for i in range(len(data_rest['spike_times'][culture])):\n",
    "        channel_num = int(list(data_rest['spike_times'][culture].keys())[i].split('_')[1])\n",
    "        x = data_locs[data_locs['channel']== channel_num] ['x']\n",
    "        y = data_locs[data_locs['channel']== channel_num] ['y']\n",
    "        if not x.empty:\n",
    "            denom += np.sum(np.array(data_rest['firing_rates'][culture][i])[0:pre_cutoff]) \n",
    "            nom_x += (np.sum(np.array(data_rest['firing_rates'][culture][i])[0:pre_cutoff])) * int(x)\n",
    "            nom_y += (np.sum(np.array(data_rest['firing_rates'][culture][i])[0:pre_cutoff])) * int(y)\n",
    "    CA_pre[:,0] = nom_x /denom\n",
    "    CA_pre[:,1] = nom_y /denom\n",
    "    CA_pres.append(CA_pre)\n",
    "data_rest['CA_pre1'] = CA_pres"
   ]
  },
  {
   "cell_type": "code",
   "execution_count": 53,
   "id": "e7b51c2c",
   "metadata": {},
   "outputs": [],
   "source": [
    "data_rest.to_pickle('Spike_Train_Prediction_Project/spike_trains_all_rest')"
   ]
  },
  {
   "cell_type": "markdown",
   "id": "b570d614",
   "metadata": {},
   "source": [
    "## Gameplay\n",
    "### C_post_1 & 2 & 3& 4 (every 5 min window)"
   ]
  },
  {
   "cell_type": "code",
   "execution_count": 3,
   "id": "22efbd01",
   "metadata": {},
   "outputs": [],
   "source": [
    "df_percent = pd.read_pickle('Spike_Train_Prediction_Project/spike_trains_all_sampled')"
   ]
  },
  {
   "cell_type": "code",
   "execution_count": 7,
   "id": "0518cc06",
   "metadata": {},
   "outputs": [],
   "source": [
    "## 5 min = 5*60/0.1 = 3000 time bins\n",
    "pre_cutoff = 3000\n",
    "CA_pres = []\n",
    "for culture in range(len(df_percent)):\n",
    "    CA_pre = np.zeros(shape=(1,2))\n",
    "    denom = 0\n",
    "    nom_x = 0\n",
    "    nom_y =0\n",
    "    for i in range(len(df_percent['spike_times'][culture])):\n",
    "        channel_num = int(list(df_percent['spike_times'][culture].keys())[i].split('_')[1])\n",
    "        x = data_locs[data_locs['channel']== channel_num] ['x']\n",
    "        y = data_locs[data_locs['channel']== channel_num] ['y']\n",
    "        if not x.empty:\n",
    "            denom += np.sum(np.array(df_percent['firing_rates'][culture][i])[0:pre_cutoff]) \n",
    "            nom_x += (np.sum(np.array(df_percent['firing_rates'][culture][i])[0:pre_cutoff])) * int(x)\n",
    "            nom_y += (np.sum(np.array(df_percent['firing_rates'][culture][i])[0:pre_cutoff])) * int(y)\n",
    "    CA_pre[:,0] = nom_x /denom\n",
    "    CA_pre[:,1] = nom_y /denom\n",
    "    CA_pres.append(CA_pre)\n",
    "df_percent['CA_pre_1'] = CA_pres"
   ]
  },
  {
   "cell_type": "code",
   "execution_count": 8,
   "id": "94b580b9",
   "metadata": {},
   "outputs": [],
   "source": [
    "df_percent.to_pickle('Spike_Train_Prediction_Project/spike_trains_all_sampled')"
   ]
  },
  {
   "cell_type": "code",
   "execution_count": null,
   "id": "2ebe0bc8",
   "metadata": {},
   "outputs": [],
   "source": [
    "## 5 min = 5*60/0.1 = 3000 time bins\n",
    "pre_cutoff = 3000\n",
    "CA_pres = []\n",
    "for culture in range(len(df_percent)):\n",
    "    CA_pre = np.zeros(shape=(1,2))\n",
    "    denom = 0\n",
    "    nom_x = 0\n",
    "    nom_y =0\n",
    "    for i in range(len(df_percent['spike_times'][culture])):\n",
    "        channel_num = int(list(df_percent['spike_times'][culture].keys())[i].split('_')[1])\n",
    "        x = data_locs[data_locs['channel']== channel_num] ['x']\n",
    "        y = data_locs[data_locs['channel']== channel_num] ['y']\n",
    "        if not x.empty:\n",
    "            denom += np.sum(np.array(df_percent['firing_rates'][culture][i])[pre_cutoff:2*pre_cutoff]) \n",
    "            nom_x += (np.sum(np.array(df_percent['firing_rates'][culture][i])[pre_cutoff:2*pre_cutoff])) * int(x)\n",
    "            nom_y += (np.sum(np.array(df_percent['firing_rates'][culture][i])[pre_cutoff:2*pre_cutoff])) * int(y)\n",
    "    CA_pre[:,0] = nom_x /denom\n",
    "    CA_pre[:,1] = nom_y /denom\n",
    "    CA_pres.append(CA_pre)\n",
    "df_percent['CA_pre_2'] = CA_pres"
   ]
  },
  {
   "cell_type": "code",
   "execution_count": 5,
   "id": "ef96bb0b",
   "metadata": {},
   "outputs": [],
   "source": [
    "df_percent.to_pickle('Spike_Train_Prediction_Project/spike_trains_all_sampled')"
   ]
  },
  {
   "cell_type": "code",
   "execution_count": null,
   "id": "fb78a5c5",
   "metadata": {},
   "outputs": [],
   "source": [
    "## 5 min = 5*60/0.1 = 3000 time bins\n",
    "pre_cutoff = 3000\n",
    "CA_pres = []\n",
    "for culture in range(len(df_percent)):\n",
    "    CA_pre = np.zeros(shape=(1,2))\n",
    "    denom = 0\n",
    "    nom_x = 0\n",
    "    nom_y =0\n",
    "    for i in range(len(df_percent['spike_times'][culture])):\n",
    "        channel_num = int(list(df_percent['spike_times'][culture].keys())[i].split('_')[1])\n",
    "        x = data_locs[data_locs['channel']== channel_num] ['x']\n",
    "        y = data_locs[data_locs['channel']== channel_num] ['y']\n",
    "        if not x.empty:\n",
    "            denom += np.sum(np.array(df_percent['firing_rates'][culture][i])[2*pre_cutoff:3*pre_cutoff]) \n",
    "            nom_x += (np.sum(np.array(df_percent['firing_rates'][culture][i])[2*pre_cutoff:3*pre_cutoff])) * int(x)\n",
    "            nom_y += (np.sum(np.array(df_percent['firing_rates'][culture][i])[2*pre_cutoff:3*pre_cutoff])) * int(y)\n",
    "    CA_pre[:,0] = nom_x /denom\n",
    "    CA_pre[:,1] = nom_y /denom\n",
    "    CA_pres.append(CA_pre)\n",
    "df_percent['CA_pre_3'] = CA_pres"
   ]
  },
  {
   "cell_type": "code",
   "execution_count": 8,
   "id": "139b4ca8",
   "metadata": {},
   "outputs": [],
   "source": [
    "df_percent.to_pickle('Spike_Train_Prediction_Project/spike_trains_all_sampled')"
   ]
  },
  {
   "cell_type": "code",
   "execution_count": null,
   "id": "525d95ac",
   "metadata": {},
   "outputs": [],
   "source": [
    "## 5 min = 5*60/0.1 = 3000 time bins\n",
    "pre_cutoff = 3000\n",
    "CA_pres = []\n",
    "for culture in range(len(df_percent)):\n",
    "    CA_pre = np.zeros(shape=(1,2))\n",
    "    denom = 0\n",
    "    nom_x = 0\n",
    "    nom_y =0\n",
    "    for i in range(len(df_percent['spike_times'][culture])):\n",
    "        channel_num = int(list(df_percent['spike_times'][culture].keys())[i].split('_')[1])\n",
    "        x = data_locs[data_locs['channel']== channel_num] ['x']\n",
    "        y = data_locs[data_locs['channel']== channel_num] ['y']\n",
    "        if not x.empty:\n",
    "            denom += np.sum(np.array(df_percent['firing_rates'][culture][i])[3*pre_cutoff:]) \n",
    "            nom_x += (np.sum(np.array(df_percent['firing_rates'][culture][i])[3*pre_cutoff:])) * int(x)\n",
    "            nom_y += (np.sum(np.array(df_percent['firing_rates'][culture][i])[3*pre_cutoff:])) * int(y)\n",
    "    CA_pre[:,0] = nom_x /denom\n",
    "    CA_pre[:,1] = nom_y /denom\n",
    "    CA_pres.append(CA_pre)\n",
    "df_percent['CA_pre_4'] = CA_pres"
   ]
  },
  {
   "cell_type": "code",
   "execution_count": 5,
   "id": "98aba783",
   "metadata": {},
   "outputs": [],
   "source": [
    "df_percent.to_pickle('Spike_Train_Prediction_Project/spike_trains_all_sampled')"
   ]
  },
  {
   "cell_type": "code",
   "execution_count": null,
   "id": "58bb3702",
   "metadata": {},
   "outputs": [],
   "source": []
  },
  {
   "cell_type": "code",
   "execution_count": null,
   "id": "441249be",
   "metadata": {},
   "outputs": [],
   "source": []
  },
  {
   "cell_type": "markdown",
   "id": "288ecf1a",
   "metadata": {},
   "source": [
    "## Distance from Rest (baseline) centroid:"
   ]
  },
  {
   "cell_type": "code",
   "execution_count": 23,
   "id": "c0a125c0",
   "metadata": {},
   "outputs": [],
   "source": [
    "df_gameplay = pd.read_pickle('Spike_Train_Prediction_Project/spike_trains_all_sampled')"
   ]
  },
  {
   "cell_type": "code",
   "execution_count": 14,
   "id": "01f61575",
   "metadata": {},
   "outputs": [],
   "source": [
    "data_rest = pd.read_pickle('Spike_Train_Prediction_Project/spike_trains_all_rest')"
   ]
  },
  {
   "cell_type": "code",
   "execution_count": 15,
   "id": "e22b7da6",
   "metadata": {},
   "outputs": [
    {
     "data": {
      "text/html": [
       "<div>\n",
       "<style scoped>\n",
       "    .dataframe tbody tr th:only-of-type {\n",
       "        vertical-align: middle;\n",
       "    }\n",
       "\n",
       "    .dataframe tbody tr th {\n",
       "        vertical-align: top;\n",
       "    }\n",
       "\n",
       "    .dataframe thead th {\n",
       "        text-align: right;\n",
       "    }\n",
       "</style>\n",
       "<table border=\"1\" class=\"dataframe\">\n",
       "  <thead>\n",
       "    <tr style=\"text-align: right;\">\n",
       "      <th></th>\n",
       "      <th>chip_id</th>\n",
       "      <th>tag</th>\n",
       "      <th>date</th>\n",
       "      <th>session</th>\n",
       "      <th>CA_pre_mean</th>\n",
       "    </tr>\n",
       "  </thead>\n",
       "  <tbody>\n",
       "    <tr>\n",
       "      <th>0</th>\n",
       "      <td>11570</td>\n",
       "      <td>GFP_rate_code_reseed</td>\n",
       "      <td>2021-06-23</td>\n",
       "      <td>2</td>\n",
       "      <td>[[1999.6479211515466, 1002.8589134897852]]</td>\n",
       "    </tr>\n",
       "    <tr>\n",
       "      <th>1</th>\n",
       "      <td>11570</td>\n",
       "      <td>GFP_rate_code_reseed</td>\n",
       "      <td>2021-06-24</td>\n",
       "      <td>2</td>\n",
       "      <td>[[1938.383791573236, 849.7005079006788]]</td>\n",
       "    </tr>\n",
       "    <tr>\n",
       "      <th>2</th>\n",
       "      <td>11570</td>\n",
       "      <td>GFP_rate_code_reseed</td>\n",
       "      <td>2021-06-25</td>\n",
       "      <td>2</td>\n",
       "      <td>[[1952.5083777139662, 891.5551809363218]]</td>\n",
       "    </tr>\n",
       "    <tr>\n",
       "      <th>3</th>\n",
       "      <td>11597</td>\n",
       "      <td>GFP__rate_code_reseed</td>\n",
       "      <td>2021-06-23</td>\n",
       "      <td>2</td>\n",
       "      <td>[[2026.263450054887, 1052.2268412699689]]</td>\n",
       "    </tr>\n",
       "    <tr>\n",
       "      <th>4</th>\n",
       "      <td>11597</td>\n",
       "      <td>GFP__rate_code_reseed</td>\n",
       "      <td>2021-06-24</td>\n",
       "      <td>2</td>\n",
       "      <td>[[2046.752387963808, 1069.669991614223]]</td>\n",
       "    </tr>\n",
       "    <tr>\n",
       "      <th>...</th>\n",
       "      <td>...</td>\n",
       "      <td>...</td>\n",
       "      <td>...</td>\n",
       "      <td>...</td>\n",
       "      <td>...</td>\n",
       "    </tr>\n",
       "    <tr>\n",
       "      <th>119</th>\n",
       "      <td>9501i</td>\n",
       "      <td>prim_test_rate_code</td>\n",
       "      <td>2021-04-20</td>\n",
       "      <td>2</td>\n",
       "      <td>[[1997.6721977467448, 789.3244482336415]]</td>\n",
       "    </tr>\n",
       "    <tr>\n",
       "      <th>120</th>\n",
       "      <td>9501i</td>\n",
       "      <td>prim_test_rate_code</td>\n",
       "      <td>2021-04-21</td>\n",
       "      <td>2</td>\n",
       "      <td>[[1915.6973571502394, 753.459403041847]]</td>\n",
       "    </tr>\n",
       "    <tr>\n",
       "      <th>121</th>\n",
       "      <td>9501i</td>\n",
       "      <td>prim_test_rate_code</td>\n",
       "      <td>2021-04-22</td>\n",
       "      <td>2</td>\n",
       "      <td>[[1899.4297292412139, 741.7204156281407]]</td>\n",
       "    </tr>\n",
       "    <tr>\n",
       "      <th>122</th>\n",
       "      <td>9501i</td>\n",
       "      <td>prim_test_rate_code</td>\n",
       "      <td>2021-04-23</td>\n",
       "      <td>2</td>\n",
       "      <td>[[1973.0963145616656, 812.503490159557]]</td>\n",
       "    </tr>\n",
       "    <tr>\n",
       "      <th>123</th>\n",
       "      <td>9501i</td>\n",
       "      <td>prim_test_rate_code</td>\n",
       "      <td>2021-04-27</td>\n",
       "      <td>2</td>\n",
       "      <td>[[1954.1077983697871, 811.6706958790495]]</td>\n",
       "    </tr>\n",
       "  </tbody>\n",
       "</table>\n",
       "<p>124 rows × 5 columns</p>\n",
       "</div>"
      ],
      "text/plain": [
       "    chip_id                     tag        date  session  \\\n",
       "0     11570    GFP_rate_code_reseed  2021-06-23        2   \n",
       "1     11570    GFP_rate_code_reseed  2021-06-24        2   \n",
       "2     11570    GFP_rate_code_reseed  2021-06-25        2   \n",
       "3     11597   GFP__rate_code_reseed  2021-06-23        2   \n",
       "4     11597   GFP__rate_code_reseed  2021-06-24        2   \n",
       "..      ...                     ...         ...      ...   \n",
       "119   9501i     prim_test_rate_code  2021-04-20        2   \n",
       "120   9501i     prim_test_rate_code  2021-04-21        2   \n",
       "121   9501i     prim_test_rate_code  2021-04-22        2   \n",
       "122   9501i     prim_test_rate_code  2021-04-23        2   \n",
       "123   9501i     prim_test_rate_code  2021-04-27        2   \n",
       "\n",
       "                                    CA_pre_mean  \n",
       "0    [[1999.6479211515466, 1002.8589134897852]]  \n",
       "1      [[1938.383791573236, 849.7005079006788]]  \n",
       "2     [[1952.5083777139662, 891.5551809363218]]  \n",
       "3     [[2026.263450054887, 1052.2268412699689]]  \n",
       "4      [[2046.752387963808, 1069.669991614223]]  \n",
       "..                                          ...  \n",
       "119   [[1997.6721977467448, 789.3244482336415]]  \n",
       "120    [[1915.6973571502394, 753.459403041847]]  \n",
       "121   [[1899.4297292412139, 741.7204156281407]]  \n",
       "122    [[1973.0963145616656, 812.503490159557]]  \n",
       "123   [[1954.1077983697871, 811.6706958790495]]  \n",
       "\n",
       "[124 rows x 5 columns]"
      ]
     },
     "execution_count": 15,
     "metadata": {},
     "output_type": "execute_result"
    }
   ],
   "source": [
    "# pd.DataFrame(data_rest['CA_pre'].tolist(),index=data_rest['chip_id']).mean(level=0).agg(np.array,1)\n",
    "data_rest_mean = pd.DataFrame(data_rest.groupby(['chip_id','tag','date']).mean()).reset_index()\n",
    "data_rest_mean['CA_pre_mean'] = np.array(data_rest.groupby(['chip_id','tag','date'])['CA_pre'].apply(np.mean))\n",
    "data_rest_mean\n"
   ]
  },
  {
   "cell_type": "code",
   "execution_count": null,
   "id": "031d4ef2",
   "metadata": {},
   "outputs": [],
   "source": []
  },
  {
   "cell_type": "markdown",
   "id": "5771ba43",
   "metadata": {},
   "source": [
    "### Gameplay"
   ]
  },
  {
   "cell_type": "code",
   "execution_count": 24,
   "id": "203a9bae",
   "metadata": {},
   "outputs": [],
   "source": [
    "chip_id =[]\n",
    "tag =[]\n",
    "date =[]\n",
    "session =[]\n",
    "CA_pre = []\n",
    "CA_prepost1 = []\n",
    "CA_prepost2 = []\n",
    "CA_prepost3 = []\n",
    "CA_prepost4 = []\n",
    "data_gameplay_CAs = pd.DataFrame()\n",
    "for index in range(len(df_gameplay)):\n",
    "    for index2 in range(len(data_rest_mean)):\n",
    "        if (data_rest_mean['chip_id'][index2] == df_gameplay['chip_id'][index] and data_rest_mean['date'][index2]==df_gameplay['date'][index] and data_rest_mean['tag'][index2]==df_gameplay['tag'][index] ):\n",
    "            chip_id.append(df_gameplay['chip_id'][index2])\n",
    "            date.append(df_gameplay['date'][index2])\n",
    "            session.append(df_gameplay['session'][index2])\n",
    "            tag.append(df_gameplay['tag'][index2])\n",
    "            \n",
    "            CA_pre.append(data_rest_mean['CA_pre_mean'][index2])\n",
    "            CA_prepost1.append(np.linalg.norm(np.array(df_gameplay['CA_pre_1'][index]) - np.array(data_rest_mean['CA_pre_mean'][index2])))\n",
    "            CA_prepost2.append(np.linalg.norm(np.array(df_gameplay['CA_pre_2'][index]) - np.array(data_rest_mean['CA_pre_mean'][index2])))\n",
    "            CA_prepost3.append(np.linalg.norm(np.array(df_gameplay['CA_pre_3'][index]) - np.array(data_rest_mean['CA_pre_mean'][index2])))\n",
    "            CA_prepost4.append(np.linalg.norm(np.array(df_gameplay['CA_pre_4'][index]) - np.array(data_rest_mean['CA_pre_mean'][index2])))\n",
    "            \n",
    "data_gameplay_CAs['chip_id'] = chip_id\n",
    "data_gameplay_CAs['session'] = session\n",
    "data_gameplay_CAs['date'] = date\n",
    "data_gameplay_CAs['tag'] = tag\n",
    "data_gameplay_CAs['CA_pre'] = CA_pre\n",
    "data_gameplay_CAs['CA_postpre1'] = CA_prepost1\n",
    "data_gameplay_CAs['CA_postpre2'] = CA_prepost2\n",
    "data_gameplay_CAs['CA_postpre3'] = CA_prepost3\n",
    "data_gameplay_CAs['CA_postpre4'] = CA_prepost4\n",
    "\n"
   ]
  },
  {
   "cell_type": "code",
   "execution_count": 26,
   "id": "d0cb094a",
   "metadata": {},
   "outputs": [],
   "source": [
    "data_gameplay_CAs.to_pickle('Spike_Train_Prediction_Project/CA_distance')"
   ]
  },
  {
   "cell_type": "markdown",
   "id": "2f668d1d",
   "metadata": {},
   "source": [
    "### Rest"
   ]
  },
  {
   "cell_type": "code",
   "execution_count": 56,
   "id": "205ae9f3",
   "metadata": {},
   "outputs": [],
   "source": [
    "chip_id =[]\n",
    "tag =[]\n",
    "date =[]\n",
    "session =[]\n",
    "CA_pre = []\n",
    "CA_prepost1 = []\n",
    "CA_prepost2 = []\n",
    "CA_prepost3 = []\n",
    "\n",
    "\n",
    "data_rest_CAs = pd.DataFrame()\n",
    "for index in range(len(data_rest)):\n",
    "    for index2 in range(len(data_rest_mean)):\n",
    "        if (data_rest_mean['chip_id'][index2] == data_rest['chip_id'][index] and data_rest_mean['date'][index2]==data_rest['date'][index] and data_rest_mean['tag'][index2]==data_rest['tag'][index] ):\n",
    "            chip_id.append(data_rest['chip_id'][index2])\n",
    "            date.append(data_rest['date'][index2])\n",
    "            session.append(data_rest['session'][index2])\n",
    "            tag.append(data_rest['tag'][index2])\n",
    "            \n",
    "            CA_pre.append(data_rest_mean['CA_pre_mean'][index2])\n",
    "            CA_prepost1.append(np.linalg.norm(np.array(data_rest['CA_pre'][index]) - np.array(data_rest_mean['CA_pre_mean'][index2])))\n",
    "            CA_prepost2.append(np.linalg.norm(np.array(data_rest['CA_pre1'][index]) - np.array(data_rest_mean['CA_pre_mean'][index2])))\n",
    "            CA_prepost3.append(np.linalg.norm(np.array(data_rest['CA_pre2'][index]) - np.array(data_rest_mean['CA_pre_mean'][index2])))\n",
    "\n",
    "data_rest_CAs['chip_id'] = chip_id\n",
    "data_rest_CAs['session'] = session\n",
    "data_rest_CAs['date'] = date\n",
    "data_rest_CAs['tag'] = tag\n",
    "data_rest_CAs['CA_pre'] = CA_pre\n",
    "data_rest_CAs['CA_prepre0'] = CA_prepost1\n",
    "data_rest_CAs['CA_prepre1'] = CA_prepost2\n",
    "data_rest_CAs['CA_prepre2'] = CA_prepost3\n"
   ]
  },
  {
   "cell_type": "code",
   "execution_count": null,
   "id": "1b2f6061",
   "metadata": {},
   "outputs": [],
   "source": []
  },
  {
   "cell_type": "code",
   "execution_count": 57,
   "id": "e2d6696f",
   "metadata": {},
   "outputs": [],
   "source": [
    "data_rest_CAs.to_pickle('Spike_Train_Prediction_Project/CA_distance_rest')"
   ]
  },
  {
   "cell_type": "code",
   "execution_count": 44,
   "id": "d29320aa",
   "metadata": {},
   "outputs": [],
   "source": [
    "# data_rest_CAs"
   ]
  },
  {
   "cell_type": "markdown",
   "id": "a892fabb",
   "metadata": {},
   "source": [
    "## Plotting:"
   ]
  },
  {
   "cell_type": "code",
   "execution_count": 45,
   "id": "b69f4279",
   "metadata": {},
   "outputs": [],
   "source": [
    "import pandas as pd\n",
    "import numpy as np\n",
    "data_gameplay_CAs = pd.read_pickle('Spike_Train_Prediction_Project/CA_distance')\n",
    "data_rest_CAs= pd.read_pickle('Spike_Train_Prediction_Project/CA_distance_rest')"
   ]
  },
  {
   "cell_type": "code",
   "execution_count": 46,
   "id": "d9e008b6",
   "metadata": {},
   "outputs": [],
   "source": [
    "num_regions =4\n",
    "plot_data1 = pd.DataFrame(index=np.arange(len(data_gameplay_CAs)*num_regions),columns=['means','windows'])\n",
    "\n",
    "\n",
    "means_vec =[]\n",
    "window_vec =[]\n",
    "status_vec = []\n",
    "for groups in ['CA_postpre1','CA_postpre2','CA_postpre3','CA_postpre4']:\n",
    "        means_vec.append(np.array(data_gameplay_CAs[groups]))\n",
    "        window_vec.append([groups[-1]]*len(data_gameplay_CAs))\n",
    "        status_vec.append(['Gameplay']*len(data_gameplay_CAs))\n",
    "         \n",
    "\n",
    "means_flat_list = [item for sublist in means_vec for item in sublist] \n",
    "windows_flat_list = [item for sublist in window_vec for item in sublist] \n",
    "status_flat_list = [item for sublist in status_vec for item in sublist] \n",
    "\n",
    "\n",
    "        \n",
    "plot_data1['means'] = means_flat_list\n",
    "plot_data1['windows'] = windows_flat_list\n",
    "plot_data1['status'] =status_flat_list\n",
    "\n",
    "\n",
    "\n",
    "\n",
    "num_regions =2\n",
    "plot_data2 = pd.DataFrame(index=np.arange(len(data_rest_CAs)*num_regions),columns=['means','windows'])\n",
    "\n",
    "\n",
    "means_vec =[]\n",
    "window_vec =[]\n",
    "status_vec = []\n",
    "for groups in ['CA_prepre1','CA_prepre2']:\n",
    "        means_vec.append(np.array(data_rest_CAs[groups]))\n",
    "        window_vec.append([str(int(groups[-1])-2)]*len(data_rest_CAs) )\n",
    "        status_vec.append(['Rest']*len(data_rest_CAs))\n",
    "         \n",
    "\n",
    "means_flat_list = [item for sublist in means_vec for item in sublist] \n",
    "windows_flat_list = [item for sublist in window_vec for item in sublist] \n",
    "status_flat_list = [item for sublist in status_vec for item in sublist] \n",
    "\n",
    "\n",
    "        \n",
    "plot_data2['means'] = means_flat_list\n",
    "plot_data2['windows'] = windows_flat_list\n",
    "plot_data2['status'] =status_flat_list\n",
    "\n",
    "\n"
   ]
  },
  {
   "cell_type": "code",
   "execution_count": 47,
   "id": "97e59e6b",
   "metadata": {},
   "outputs": [
    {
     "data": {
      "text/html": [
       "<div>\n",
       "<style scoped>\n",
       "    .dataframe tbody tr th:only-of-type {\n",
       "        vertical-align: middle;\n",
       "    }\n",
       "\n",
       "    .dataframe tbody tr th {\n",
       "        vertical-align: top;\n",
       "    }\n",
       "\n",
       "    .dataframe thead th {\n",
       "        text-align: right;\n",
       "    }\n",
       "</style>\n",
       "<table border=\"1\" class=\"dataframe\">\n",
       "  <thead>\n",
       "    <tr style=\"text-align: right;\">\n",
       "      <th></th>\n",
       "      <th>means</th>\n",
       "      <th>windows</th>\n",
       "      <th>status</th>\n",
       "    </tr>\n",
       "  </thead>\n",
       "  <tbody>\n",
       "    <tr>\n",
       "      <th>0</th>\n",
       "      <td>41.317422</td>\n",
       "      <td>-1</td>\n",
       "      <td>Rest</td>\n",
       "    </tr>\n",
       "    <tr>\n",
       "      <th>1</th>\n",
       "      <td>32.545178</td>\n",
       "      <td>-1</td>\n",
       "      <td>Rest</td>\n",
       "    </tr>\n",
       "    <tr>\n",
       "      <th>2</th>\n",
       "      <td>126.245904</td>\n",
       "      <td>-1</td>\n",
       "      <td>Rest</td>\n",
       "    </tr>\n",
       "    <tr>\n",
       "      <th>3</th>\n",
       "      <td>10.227182</td>\n",
       "      <td>-1</td>\n",
       "      <td>Rest</td>\n",
       "    </tr>\n",
       "    <tr>\n",
       "      <th>4</th>\n",
       "      <td>23.868926</td>\n",
       "      <td>-1</td>\n",
       "      <td>Rest</td>\n",
       "    </tr>\n",
       "    <tr>\n",
       "      <th>...</th>\n",
       "      <td>...</td>\n",
       "      <td>...</td>\n",
       "      <td>...</td>\n",
       "    </tr>\n",
       "    <tr>\n",
       "      <th>975</th>\n",
       "      <td>60.638445</td>\n",
       "      <td>4</td>\n",
       "      <td>Gameplay</td>\n",
       "    </tr>\n",
       "    <tr>\n",
       "      <th>976</th>\n",
       "      <td>110.649381</td>\n",
       "      <td>4</td>\n",
       "      <td>Gameplay</td>\n",
       "    </tr>\n",
       "    <tr>\n",
       "      <th>977</th>\n",
       "      <td>29.459678</td>\n",
       "      <td>4</td>\n",
       "      <td>Gameplay</td>\n",
       "    </tr>\n",
       "    <tr>\n",
       "      <th>978</th>\n",
       "      <td>34.784035</td>\n",
       "      <td>4</td>\n",
       "      <td>Gameplay</td>\n",
       "    </tr>\n",
       "    <tr>\n",
       "      <th>979</th>\n",
       "      <td>33.196816</td>\n",
       "      <td>4</td>\n",
       "      <td>Gameplay</td>\n",
       "    </tr>\n",
       "  </tbody>\n",
       "</table>\n",
       "<p>1446 rows × 3 columns</p>\n",
       "</div>"
      ],
      "text/plain": [
       "          means windows    status\n",
       "0     41.317422      -1      Rest\n",
       "1     32.545178      -1      Rest\n",
       "2    126.245904      -1      Rest\n",
       "3     10.227182      -1      Rest\n",
       "4     23.868926      -1      Rest\n",
       "..          ...     ...       ...\n",
       "975   60.638445       4  Gameplay\n",
       "976  110.649381       4  Gameplay\n",
       "977   29.459678       4  Gameplay\n",
       "978   34.784035       4  Gameplay\n",
       "979   33.196816       4  Gameplay\n",
       "\n",
       "[1446 rows x 3 columns]"
      ]
     },
     "execution_count": 47,
     "metadata": {},
     "output_type": "execute_result"
    }
   ],
   "source": [
    "all_data = [plot_data2, plot_data1]\n",
    "plot_data = pd.concat(all_data)\n",
    "plot_data"
   ]
  },
  {
   "cell_type": "code",
   "execution_count": 48,
   "id": "d3ff525b",
   "metadata": {
    "scrolled": false
   },
   "outputs": [
    {
     "name": "stderr",
     "output_type": "stream",
     "text": [
      "/tmp/ipykernel_3318/4126440554.py:45: UserWarning: Tight layout not applied. The left and right margins cannot be made large enough to accommodate all axes decorations. \n",
      "  plt.tight_layout()\n"
     ]
    },
    {
     "data": {
      "text/plain": [
       "<function matplotlib.pyplot.show(close=None, block=None)>"
      ]
     },
     "execution_count": 48,
     "metadata": {},
     "output_type": "execute_result"
    },
    {
     "data": {
      "image/png": "[encoded data removed]",
      "text/plain": [
       "<Figure size 360x360 with 1 Axes>"
      ]
     },
     "metadata": {},
     "output_type": "display_data"
    }
   ],
   "source": [
    "#labels = SCdf.Group.unique()\n",
    "#x_pos = np.arange(len(labels))\n",
    "\n",
    "import seaborn as sns\n",
    "import matplotlib.pyplot as plt\n",
    "x = plot_data['windows']\n",
    "y = plot_data['means']\n",
    "hue = plot_data['status']\n",
    "sns.set(style=\"darkgrid\")\n",
    "sns.set(font_scale=1.2)\n",
    "palette = sns.color_palette(\"Set2\", 2)\n",
    "ax = sns.boxplot(data=plot_data, x=x, y=y,hue =hue, palette=palette, showfliers=False, showmeans = True, \n",
    "                 meanprops={\"markerfacecolor\":\"black\", \n",
    "                       \"markeredgecolor\":\"black\",\n",
    "                      \"markersize\":\"5\"})\n",
    "labels = ['(0,5)','(5,10)','(0,5)','(5,10)','(10,15)','(15,20)']\n",
    "# # ax.set_xticks(x_pos)\n",
    "ax.set_xticklabels(labels)\n",
    "# ax.set_title('Mean local entropy over 355 Normalized Gameplay recordings')\n",
    "ax.set_ylabel('Distance from the \\n mean center of activity during Rest',fontsize =14)\n",
    "ax.set_xlabel('Time Interval (minutes)',fontsize =14)\n",
    "ax.grid(False)\n",
    "\n",
    "\n",
    "# ax.legend([0, 1], [\"post\", \"prior\"], fontsize = 14)\n",
    "L = plt.legend(loc='upper right', bbox_to_anchor=(2, 1), title = \"condition\", borderaxespad=0.1, frameon=False)\n",
    "# L.get_texts()[0].set_text('post')\n",
    "# L.get_texts()[1].set_text('prior')\n",
    "\n",
    "\n",
    "# L = plt.legend(bbox_to_anchor=(1.02, 1), loc='upper left',  title = \"Subpopulation\", borderaxespad=0.1)\n",
    "#Plot t-test between groups\n",
    "# y, h, col = 2, 0.05, 'k'\n",
    "# x00, x01 = -.2, .2\n",
    "# x10, x11 = .8, 1.2\n",
    "\n",
    "# plt.plot([x00, x00, x01, x01], [y, y+h, y+h, y], lw=1.5, c=col)\n",
    "# plt.text(((x00 + x01)/2), y+ h, \"****\", ha='center', va='bottom', color=col, fontsize=8)\n",
    "# plt.plot([x10, x10, x11, x11], [y, y+h, y+h, y], lw=1.5, c=col)\n",
    "# plt.text(((x10 + x11)/2), y+ h, \"****\", ha='center', va='bottom', color=col, fontsize=8)\n",
    "# ax.set_ylim([-0.01, 0.17])\n",
    "\n",
    "# plt.axvline(x=1.5,color='k')\n",
    "sns.set(rc={'figure.figsize':(5,5)})\n",
    "plt.tight_layout()\n",
    "# ax.get_legend().remove()\n",
    "plt.savefig('Spike_Train_Prediction_Project/mean_CA_vs_Rest.pdf', bbox_inches='tight')\n",
    "plt.show"
   ]
  },
  {
   "cell_type": "code",
   "execution_count": 49,
   "id": "31a54064",
   "metadata": {},
   "outputs": [
    {
     "name": "stderr",
     "output_type": "stream",
     "text": [
      "/tmp/ipykernel_3318/2910332619.py:16: UserWarning: FixedFormatter should only be used together with FixedLocator\n",
      "  ax.set_xticklabels(labels)\n"
     ]
    },
    {
     "data": {
      "image/png": "[encoded data removed]",
      "text/plain": [
       "<Figure size 360x360 with 1 Axes>"
      ]
     },
     "metadata": {},
     "output_type": "display_data"
    }
   ],
   "source": [
    "import matplotlib.pyplot as plt\n",
    "import pandas as pd\n",
    "import seaborn as sns\n",
    "\n",
    "df = plot_data\n",
    "\n",
    "\n",
    "fig, ax = plt.subplots()\n",
    "\n",
    "sns.lineplot(ax = ax,\n",
    "             data = df,\n",
    "             x = 'windows',\n",
    "             y = 'means')\n",
    "labels = ['(0,5)','(5,10)','(0,5)','(5,10)','(10,15)','(15,20)']\n",
    "# # ax.set_xticks(x_pos)\n",
    "ax.set_xticklabels(labels)\n",
    "plt.axvline(x=1.5, color='r', linestyle='--')\n",
    "x_pos = 0.2\n",
    "y_pos = 88\n",
    "plt.text(x_pos, y_pos, \"Rest\",fontsize =14)\n",
    "\n",
    "x_pos = 3\n",
    "y_pos = 88\n",
    "plt.text(x_pos, y_pos, \"Gameplay\",fontsize =14)\n",
    "\n",
    "\n",
    "ax.set_ylabel('Distance from The \\n Mean Center of Activity During Rest',fontsize =14)\n",
    "ax.set_xlabel('Time Interval (minutes)',fontsize =14)\n",
    "ax.grid(False)\n",
    "ax.set_ylim([18, 93])\n",
    "\n",
    "# sns.set(rc={'figure.figsize':(3,3)})\n",
    "plt.tight_layout()\n",
    "# ax.get_legend().remove()\n",
    "plt.savefig('Spike_Train_Prediction_Project/mean_CA_vs_Rest_line.pdf', bbox_inches='tight')\n",
    "\n",
    "plt.show()"
   ]
  },
  {
   "cell_type": "markdown",
   "id": "4535c27d",
   "metadata": {},
   "source": [
    "## Stats:"
   ]
  },
  {
   "cell_type": "code",
   "execution_count": 50,
   "id": "a9aab69a",
   "metadata": {},
   "outputs": [
    {
     "data": {
      "text/plain": [
       "AlexanderGovernResult(statistic=160.33934955384174, pvalue=9.539047757302423e-37)"
      ]
     },
     "execution_count": 50,
     "metadata": {},
     "output_type": "execute_result"
    }
   ],
   "source": [
    "CAs_rest = ((np.array(plot_data[plot_data['windows']=='-1']['means']))+(np.array(plot_data[plot_data['windows']=='0']['means']) ))/2\n",
    "CAs_act = ((np.array(plot_data[plot_data['windows']=='1']['means']))+(np.array(plot_data[plot_data['windows']=='2']['means']) )\n",
    "          +(np.array(plot_data[plot_data['windows']=='4']['means']) )+(np.array(plot_data[plot_data['windows']=='4']['means']) ))/4\n",
    "\n",
    "CAs_rest = CAs_rest[~np.isnan(CAs_rest)]\n",
    "CAs_act = CAs_act[~np.isnan(CAs_act)]\n",
    "\n",
    "alexandergovern(CAs_rest,CAs_act)\n",
    "\n",
    "\n",
    "\n"
   ]
  },
  {
   "cell_type": "code",
   "execution_count": 51,
   "id": "04f002fd",
   "metadata": {},
   "outputs": [
    {
     "data": {
      "text/html": [
       "<div>\n",
       "<style scoped>\n",
       "    .dataframe tbody tr th:only-of-type {\n",
       "        vertical-align: middle;\n",
       "    }\n",
       "\n",
       "    .dataframe tbody tr th {\n",
       "        vertical-align: top;\n",
       "    }\n",
       "\n",
       "    .dataframe thead th {\n",
       "        text-align: right;\n",
       "    }\n",
       "</style>\n",
       "<table border=\"1\" class=\"dataframe\">\n",
       "  <thead>\n",
       "    <tr style=\"text-align: right;\">\n",
       "      <th></th>\n",
       "      <th>Source</th>\n",
       "      <th>SS</th>\n",
       "      <th>DF</th>\n",
       "      <th>MS</th>\n",
       "      <th>F</th>\n",
       "      <th>p-unc</th>\n",
       "      <th>np2</th>\n",
       "    </tr>\n",
       "  </thead>\n",
       "  <tbody>\n",
       "    <tr>\n",
       "      <th>0</th>\n",
       "      <td>group_name</td>\n",
       "      <td>164159.557</td>\n",
       "      <td>1</td>\n",
       "      <td>164159.557</td>\n",
       "      <td>191.949</td>\n",
       "      <td>0.0</td>\n",
       "      <td>0.292</td>\n",
       "    </tr>\n",
       "    <tr>\n",
       "      <th>1</th>\n",
       "      <td>Within</td>\n",
       "      <td>398535.337</td>\n",
       "      <td>466</td>\n",
       "      <td>855.226</td>\n",
       "      <td>NaN</td>\n",
       "      <td>NaN</td>\n",
       "      <td>NaN</td>\n",
       "    </tr>\n",
       "  </tbody>\n",
       "</table>\n",
       "</div>"
      ],
      "text/plain": [
       "       Source          SS   DF          MS        F  p-unc    np2\n",
       "0  group_name  164159.557    1  164159.557  191.949    0.0  0.292\n",
       "1      Within  398535.337  466     855.226      NaN    NaN    NaN"
      ]
     },
     "execution_count": 51,
     "metadata": {},
     "output_type": "execute_result"
    }
   ],
   "source": [
    "import pingouin as pg\n",
    "df1 = pd.DataFrame()\n",
    "df2= pd.DataFrame()\n",
    "\n",
    "df1['CA'] = CAs_rest\n",
    "df2['CA'] = CAs_act\n",
    "df1['group_name'] = 'rest'\n",
    "df2['group_name'] = 'act'\n",
    "\n",
    "df = pd.concat([df1,df2])\n",
    "\n",
    "\n",
    "post_hoc_test =  pg.anova(data=df, dv='CA', between='group_name',detailed=True).round(3)\n",
    "post_hoc_test\n",
    "\n"
   ]
  },
  {
   "cell_type": "code",
   "execution_count": 52,
   "id": "811ca2b1",
   "metadata": {},
   "outputs": [
    {
     "data": {
      "text/html": [
       "<div>\n",
       "<style scoped>\n",
       "    .dataframe tbody tr th:only-of-type {\n",
       "        vertical-align: middle;\n",
       "    }\n",
       "\n",
       "    .dataframe tbody tr th {\n",
       "        vertical-align: top;\n",
       "    }\n",
       "\n",
       "    .dataframe thead th {\n",
       "        text-align: right;\n",
       "    }\n",
       "</style>\n",
       "<table border=\"1\" class=\"dataframe\">\n",
       "  <thead>\n",
       "    <tr style=\"text-align: right;\">\n",
       "      <th></th>\n",
       "      <th>Source</th>\n",
       "      <th>ddof1</th>\n",
       "      <th>ddof2</th>\n",
       "      <th>F</th>\n",
       "      <th>p-unc</th>\n",
       "      <th>np2</th>\n",
       "    </tr>\n",
       "  </thead>\n",
       "  <tbody>\n",
       "    <tr>\n",
       "      <th>0</th>\n",
       "      <td>group_name</td>\n",
       "      <td>1</td>\n",
       "      <td>466</td>\n",
       "      <td>191.949</td>\n",
       "      <td>0.0</td>\n",
       "      <td>0.292</td>\n",
       "    </tr>\n",
       "  </tbody>\n",
       "</table>\n",
       "</div>"
      ],
      "text/plain": [
       "       Source  ddof1  ddof2        F  p-unc    np2\n",
       "0  group_name      1    466  191.949    0.0  0.292"
      ]
     },
     "execution_count": 52,
     "metadata": {},
     "output_type": "execute_result"
    }
   ],
   "source": [
    "post_hoc_test =  pg.anova(data=df, dv='CA', between='group_name',detailed=False).round(3)\n",
    "post_hoc_test"
   ]
  },
  {
   "cell_type": "code",
   "execution_count": 31,
   "id": "18ff1f12",
   "metadata": {},
   "outputs": [],
   "source": [
    "import pingouin as pg\n",
    "df1 = pd.DataFrame()\n",
    "df2= pd.DataFrame()\n",
    "df3= pd.DataFrame()\n",
    "df4= pd.DataFrame()\n",
    "df5= pd.DataFrame()\n",
    "df6= pd.DataFrame()\n",
    "df1['CA'] = np.array(plot_data[plot_data['windows']=='-1']['means'])\n",
    "df2['CA'] = np.array(plot_data[plot_data['windows']=='0']['means'])\n",
    "df3['CA'] = np.array(plot_data[plot_data['windows']=='1']['means'])\n",
    "df4['CA'] = np.array(plot_data[plot_data['windows']=='2']['means'])\n",
    "df5['CA'] = np.array(plot_data[plot_data['windows']=='3']['means'])\n",
    "df6['CA'] = np.array(plot_data[plot_data['windows']=='4']['means'])\n",
    "\n",
    "df1['group_name'] = 'rest_0'\n",
    "df2['group_name'] = 'rest_1'\n",
    "\n",
    "df3['group_name'] = 'act_0'\n",
    "df4['group_name'] = 'act_1'\n",
    "df5['group_name'] = 'act_2'\n",
    "df6['group_name'] = 'act_3'\n",
    "df = pd.concat([df1,df2,df3,df4,df5,df6])\n",
    "\n"
   ]
  },
  {
   "cell_type": "code",
   "execution_count": 32,
   "id": "44b66a5d",
   "metadata": {},
   "outputs": [
    {
     "data": {
      "text/html": [
       "<div>\n",
       "<style scoped>\n",
       "    .dataframe tbody tr th:only-of-type {\n",
       "        vertical-align: middle;\n",
       "    }\n",
       "\n",
       "    .dataframe tbody tr th {\n",
       "        vertical-align: top;\n",
       "    }\n",
       "\n",
       "    .dataframe thead th {\n",
       "        text-align: right;\n",
       "    }\n",
       "</style>\n",
       "<table border=\"1\" class=\"dataframe\">\n",
       "  <thead>\n",
       "    <tr style=\"text-align: right;\">\n",
       "      <th></th>\n",
       "      <th>A</th>\n",
       "      <th>B</th>\n",
       "      <th>mean(A)</th>\n",
       "      <th>mean(B)</th>\n",
       "      <th>diff</th>\n",
       "      <th>se</th>\n",
       "      <th>T</th>\n",
       "      <th>df</th>\n",
       "      <th>pval</th>\n",
       "      <th>hedges</th>\n",
       "    </tr>\n",
       "  </thead>\n",
       "  <tbody>\n",
       "    <tr>\n",
       "      <th>0</th>\n",
       "      <td>act_0</td>\n",
       "      <td>act_1</td>\n",
       "      <td>74.636</td>\n",
       "      <td>61.648</td>\n",
       "      <td>12.989</td>\n",
       "      <td>4.155</td>\n",
       "      <td>3.126</td>\n",
       "      <td>436.865</td>\n",
       "      <td>0.023</td>\n",
       "      <td>0.283</td>\n",
       "    </tr>\n",
       "    <tr>\n",
       "      <th>1</th>\n",
       "      <td>act_0</td>\n",
       "      <td>act_2</td>\n",
       "      <td>74.636</td>\n",
       "      <td>64.845</td>\n",
       "      <td>9.791</td>\n",
       "      <td>4.463</td>\n",
       "      <td>2.194</td>\n",
       "      <td>470.349</td>\n",
       "      <td>0.242</td>\n",
       "      <td>0.200</td>\n",
       "    </tr>\n",
       "    <tr>\n",
       "      <th>2</th>\n",
       "      <td>act_0</td>\n",
       "      <td>act_3</td>\n",
       "      <td>74.636</td>\n",
       "      <td>61.992</td>\n",
       "      <td>12.644</td>\n",
       "      <td>4.491</td>\n",
       "      <td>2.816</td>\n",
       "      <td>472.174</td>\n",
       "      <td>0.057</td>\n",
       "      <td>0.256</td>\n",
       "    </tr>\n",
       "    <tr>\n",
       "      <th>3</th>\n",
       "      <td>act_0</td>\n",
       "      <td>rest_0</td>\n",
       "      <td>74.636</td>\n",
       "      <td>24.278</td>\n",
       "      <td>50.358</td>\n",
       "      <td>3.730</td>\n",
       "      <td>13.502</td>\n",
       "      <td>339.037</td>\n",
       "      <td>0.001</td>\n",
       "      <td>1.234</td>\n",
       "    </tr>\n",
       "    <tr>\n",
       "      <th>4</th>\n",
       "      <td>act_0</td>\n",
       "      <td>rest_1</td>\n",
       "      <td>74.636</td>\n",
       "      <td>29.134</td>\n",
       "      <td>45.502</td>\n",
       "      <td>3.979</td>\n",
       "      <td>11.435</td>\n",
       "      <td>400.205</td>\n",
       "      <td>0.001</td>\n",
       "      <td>1.047</td>\n",
       "    </tr>\n",
       "    <tr>\n",
       "      <th>5</th>\n",
       "      <td>act_1</td>\n",
       "      <td>act_2</td>\n",
       "      <td>61.648</td>\n",
       "      <td>64.845</td>\n",
       "      <td>-3.198</td>\n",
       "      <td>3.752</td>\n",
       "      <td>-0.852</td>\n",
       "      <td>458.846</td>\n",
       "      <td>0.900</td>\n",
       "      <td>-0.078</td>\n",
       "    </tr>\n",
       "    <tr>\n",
       "      <th>6</th>\n",
       "      <td>act_1</td>\n",
       "      <td>act_3</td>\n",
       "      <td>61.648</td>\n",
       "      <td>61.992</td>\n",
       "      <td>-0.344</td>\n",
       "      <td>3.786</td>\n",
       "      <td>-0.091</td>\n",
       "      <td>456.264</td>\n",
       "      <td>0.900</td>\n",
       "      <td>-0.008</td>\n",
       "    </tr>\n",
       "    <tr>\n",
       "      <th>7</th>\n",
       "      <td>act_1</td>\n",
       "      <td>rest_0</td>\n",
       "      <td>61.648</td>\n",
       "      <td>24.278</td>\n",
       "      <td>37.369</td>\n",
       "      <td>2.841</td>\n",
       "      <td>13.152</td>\n",
       "      <td>408.805</td>\n",
       "      <td>0.001</td>\n",
       "      <td>1.205</td>\n",
       "    </tr>\n",
       "    <tr>\n",
       "      <th>8</th>\n",
       "      <td>act_1</td>\n",
       "      <td>rest_1</td>\n",
       "      <td>61.648</td>\n",
       "      <td>29.134</td>\n",
       "      <td>32.514</td>\n",
       "      <td>3.162</td>\n",
       "      <td>10.283</td>\n",
       "      <td>464.372</td>\n",
       "      <td>0.001</td>\n",
       "      <td>0.944</td>\n",
       "    </tr>\n",
       "    <tr>\n",
       "      <th>9</th>\n",
       "      <td>act_2</td>\n",
       "      <td>act_3</td>\n",
       "      <td>64.845</td>\n",
       "      <td>61.992</td>\n",
       "      <td>2.853</td>\n",
       "      <td>4.121</td>\n",
       "      <td>0.692</td>\n",
       "      <td>471.896</td>\n",
       "      <td>0.900</td>\n",
       "      <td>0.063</td>\n",
       "    </tr>\n",
       "    <tr>\n",
       "      <th>10</th>\n",
       "      <td>act_2</td>\n",
       "      <td>rest_0</td>\n",
       "      <td>64.845</td>\n",
       "      <td>24.278</td>\n",
       "      <td>40.567</td>\n",
       "      <td>3.275</td>\n",
       "      <td>12.387</td>\n",
       "      <td>358.910</td>\n",
       "      <td>0.001</td>\n",
       "      <td>1.141</td>\n",
       "    </tr>\n",
       "    <tr>\n",
       "      <th>11</th>\n",
       "      <td>act_2</td>\n",
       "      <td>rest_1</td>\n",
       "      <td>64.845</td>\n",
       "      <td>29.134</td>\n",
       "      <td>35.711</td>\n",
       "      <td>3.557</td>\n",
       "      <td>10.040</td>\n",
       "      <td>425.222</td>\n",
       "      <td>0.001</td>\n",
       "      <td>0.927</td>\n",
       "    </tr>\n",
       "    <tr>\n",
       "      <th>12</th>\n",
       "      <td>act_3</td>\n",
       "      <td>rest_0</td>\n",
       "      <td>61.992</td>\n",
       "      <td>24.278</td>\n",
       "      <td>37.714</td>\n",
       "      <td>3.313</td>\n",
       "      <td>11.383</td>\n",
       "      <td>355.841</td>\n",
       "      <td>0.001</td>\n",
       "      <td>1.048</td>\n",
       "    </tr>\n",
       "    <tr>\n",
       "      <th>13</th>\n",
       "      <td>act_3</td>\n",
       "      <td>rest_1</td>\n",
       "      <td>61.992</td>\n",
       "      <td>29.134</td>\n",
       "      <td>32.858</td>\n",
       "      <td>3.592</td>\n",
       "      <td>9.148</td>\n",
       "      <td>421.998</td>\n",
       "      <td>0.001</td>\n",
       "      <td>0.844</td>\n",
       "    </tr>\n",
       "    <tr>\n",
       "      <th>14</th>\n",
       "      <td>rest_0</td>\n",
       "      <td>rest_1</td>\n",
       "      <td>24.278</td>\n",
       "      <td>29.134</td>\n",
       "      <td>-4.855</td>\n",
       "      <td>2.578</td>\n",
       "      <td>-1.883</td>\n",
       "      <td>425.257</td>\n",
       "      <td>0.416</td>\n",
       "      <td>-0.175</td>\n",
       "    </tr>\n",
       "  </tbody>\n",
       "</table>\n",
       "</div>"
      ],
      "text/plain": [
       "         A       B  mean(A)  mean(B)    diff     se       T       df   pval  \\\n",
       "0    act_0   act_1   74.636   61.648  12.989  4.155   3.126  436.865  0.023   \n",
       "1    act_0   act_2   74.636   64.845   9.791  4.463   2.194  470.349  0.242   \n",
       "2    act_0   act_3   74.636   61.992  12.644  4.491   2.816  472.174  0.057   \n",
       "3    act_0  rest_0   74.636   24.278  50.358  3.730  13.502  339.037  0.001   \n",
       "4    act_0  rest_1   74.636   29.134  45.502  3.979  11.435  400.205  0.001   \n",
       "5    act_1   act_2   61.648   64.845  -3.198  3.752  -0.852  458.846  0.900   \n",
       "6    act_1   act_3   61.648   61.992  -0.344  3.786  -0.091  456.264  0.900   \n",
       "7    act_1  rest_0   61.648   24.278  37.369  2.841  13.152  408.805  0.001   \n",
       "8    act_1  rest_1   61.648   29.134  32.514  3.162  10.283  464.372  0.001   \n",
       "9    act_2   act_3   64.845   61.992   2.853  4.121   0.692  471.896  0.900   \n",
       "10   act_2  rest_0   64.845   24.278  40.567  3.275  12.387  358.910  0.001   \n",
       "11   act_2  rest_1   64.845   29.134  35.711  3.557  10.040  425.222  0.001   \n",
       "12   act_3  rest_0   61.992   24.278  37.714  3.313  11.383  355.841  0.001   \n",
       "13   act_3  rest_1   61.992   29.134  32.858  3.592   9.148  421.998  0.001   \n",
       "14  rest_0  rest_1   24.278   29.134  -4.855  2.578  -1.883  425.257  0.416   \n",
       "\n",
       "    hedges  \n",
       "0    0.283  \n",
       "1    0.200  \n",
       "2    0.256  \n",
       "3    1.234  \n",
       "4    1.047  \n",
       "5   -0.078  \n",
       "6   -0.008  \n",
       "7    1.205  \n",
       "8    0.944  \n",
       "9    0.063  \n",
       "10   1.141  \n",
       "11   0.927  \n",
       "12   1.048  \n",
       "13   0.844  \n",
       "14  -0.175  "
      ]
     },
     "execution_count": 32,
     "metadata": {},
     "output_type": "execute_result"
    }
   ],
   "source": [
    "post_hoc_test =  pg.pairwise_gameshowell(data=df, dv='CA', between='group_name').round(3)\n",
    "post_hoc_test"
   ]
  },
  {
   "cell_type": "code",
   "execution_count": null,
   "id": "28fe3200",
   "metadata": {},
   "outputs": [],
   "source": []
  },
  {
   "cell_type": "code",
   "execution_count": null,
   "id": "8195eac2",
   "metadata": {},
   "outputs": [],
   "source": []
  },
  {
   "cell_type": "code",
   "execution_count": null,
   "id": "004904a7",
   "metadata": {},
   "outputs": [],
   "source": []
  }
 ],
 "metadata": {
  "kernelspec": {
   "display_name": "Python 3 (ipykernel)",
   "language": "python",
   "name": "python3"
  },
  "language_info": {
   "codemirror_mode": {
    "name": "ipython",
    "version": 3
   },
   "file_extension": ".py",
   "mimetype": "text/x-python",
   "name": "python",
   "nbconvert_exporter": "python",
   "pygments_lexer": "ipython3",
   "version": "3.9.12"
  }
 },
 "nbformat": 4,
 "nbformat_minor": 5
}
