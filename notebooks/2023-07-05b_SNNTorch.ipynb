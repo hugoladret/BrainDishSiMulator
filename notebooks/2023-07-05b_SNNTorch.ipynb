{
 "cells": [
  {
   "cell_type": "code",
   "execution_count": 1,
   "id": "ba3f27ca",
   "metadata": {},
   "outputs": [],
   "source": [
    "import numpy as np\n",
    "import matplotlib.pyplot as plt\n",
    "import torch\n",
    "from torch.utils.data import Dataset, DataLoader\n",
    "\n",
    "import warnings # highly illegal move to make pandas compliant\n",
    "warnings.simplefilter(action='ignore', category=FutureWarning)"
   ]
  },
  {
   "cell_type": "code",
   "execution_count": 2,
   "id": "c14ce067",
   "metadata": {},
   "outputs": [],
   "source": [
    "import sys\n",
    "sys.path.append('../code/utils')  # Add the utils directory to the Python path\n",
    "\n",
    "import utils_data, utils_spikes, utils_events\n",
    "import dataloader\n"
   ]
  },
  {
   "attachments": {},
   "cell_type": "markdown",
   "id": "a91b1c31",
   "metadata": {},
   "source": [
    "# And now that we have a dataloader, let's try to fit it using a simple SNN model"
   ]
  },
  {
   "cell_type": "code",
   "execution_count": 27,
   "id": "b8a59e4d",
   "metadata": {},
   "outputs": [],
   "source": [
    "# Experiment specific parameters \n",
    "chip_id = 9501 # experiment ID\n",
    "chip_session = 0 # 2 for post-training, 0 for pre-training\n",
    "\n",
    "# Stable parameters\n",
    "data_path = '../data/cortical_labs_data/' # path to data\n",
    "fs = 20000 # sampling frequency\n",
    "binsize = 10 # ms, bin size for spike counts\n",
    "array_size = 1024 # number of electrode in the array"
   ]
  },
  {
   "attachments": {},
   "cell_type": "markdown",
   "id": "5f8c8b35",
   "metadata": {},
   "source": [
    "# Using our brand new dataloader"
   ]
  },
  {
   "cell_type": "code",
   "execution_count": 45,
   "id": "e61b42fc",
   "metadata": {},
   "outputs": [
    {
     "name": "stderr",
     "output_type": "stream",
     "text": [
      "Loading data...: 100%|██████████| 29/29 [00:02<00:00, 13.06it/s]\n"
     ]
    },
    {
     "name": "stdout",
     "output_type": "stream",
     "text": [
      "Stimulation mode: full game\n"
     ]
    },
    {
     "data": {
      "image/png": "[encoded data removed]",
      "text/plain": [
       "<Figure size 360x360 with 1 Axes>"
      ]
     },
     "metadata": {
      "needs_background": "light"
     },
     "output_type": "display_data"
    },
    {
     "name": "stderr",
     "output_type": "stream",
     "text": [
      "Binning sensory channels: 100%|██████████| 500/500 [00:01<00:00, 305.52it/s]\n",
      "Binning up1 channels: 100%|██████████| 100/100 [00:00<00:00, 560.77it/s]\n",
      "Binning down1 channels: 100%|██████████| 100/100 [00:00<00:00, 417.81it/s]\n",
      "Binning up2 channels: 100%|██████████| 100/100 [00:00<00:00, 504.13it/s]\n",
      "Binning down2 channels: 100%|██████████| 100/100 [00:00<00:00, 535.36it/s]\n"
     ]
    },
    {
     "data": {
      "text/plain": [
       "True"
      ]
     },
     "execution_count": 45,
     "metadata": {},
     "output_type": "execute_result"
    }
   ],
   "source": [
    "data_subset, events = dataloader.load_file(chip_id, chip_session, data_path)\n",
    "spiketimes = dataloader.get_spiketimes(data_subset, array_size,fs)\n",
    "sensory_spikes, up1_spikes, up2_spikes, down1_spikes, down2_spikes = dataloader.get_electrode_regions(data_subset, spiketimes, do_plot = True)\n",
    "\n",
    "all_spikes = [sensory_spikes, up1_spikes, up2_spikes, down1_spikes, down2_spikes]\n",
    "# Find maximum time across all spike lists\n",
    "max_time_ms = max(max(max(spikes) for spikes in spike_list)*1000 for spike_list in all_spikes)\n",
    "\n",
    "# Create binned spikes tensor for each region\n",
    "sensory_spikes_binned = dataloader.spike_times_to_bins(sensory_spikes, binsize, max_time_ms, spike_tag = 'sensory')\n",
    "up1_spikes_binned = dataloader.spike_times_to_bins(up1_spikes, binsize, max_time_ms, spike_tag = 'up1')\n",
    "down1_spikes_binned = dataloader.spike_times_to_bins(down1_spikes, binsize, max_time_ms, spike_tag='down1')\n",
    "up2_spikes_binned = dataloader.spike_times_to_bins(up2_spikes, binsize, max_time_ms, spike_tag = 'up2')\n",
    "down2_spikes_binned = dataloader.spike_times_to_bins(down2_spikes, binsize, max_time_ms, spike_tag = 'down2')\n",
    "\n",
    "# Verifying that the tensor are binary files\n",
    "dataloader.check_binary(sensory_spikes_binned, \"sensory_spikes_binned\")\n",
    "dataloader.check_binary(up1_spikes_binned, \"up1_spikes_binned\")\n",
    "dataloader.check_binary(down1_spikes_binned, \"down1_spikes_binned\")\n",
    "dataloader.check_binary(up2_spikes_binned, \"up2_spikes_binned\")\n",
    "dataloader.check_binary(down2_spikes_binned, \"down2_spikes_binned\")"
   ]
  },
  {
   "attachments": {},
   "cell_type": "markdown",
   "id": "9aca7cc6",
   "metadata": {},
   "source": [
    "# And now we fit using SNNTorch, using a pipeline courtesy of Jason Eshraghian"
   ]
  },
  {
   "attachments": {},
   "cell_type": "markdown",
   "id": "e9c145c4",
   "metadata": {},
   "source": [
    "### First we need to get some labels"
   ]
  },
  {
   "cell_type": "code",
   "execution_count": 51,
   "id": "3eea16e7",
   "metadata": {},
   "outputs": [],
   "source": [
    "def events_to_bins(events, event_types, bin_width, max_time_ms):\n",
    "    num_bins = int(np.ceil(max_time_ms / bin_width))\n",
    "    event_bins = np.zeros((len(event_types), num_bins))\n",
    "    event_index = 0  # pointer to track current event\n",
    "    \n",
    "    # sort events based on 'norm_timestamp'\n",
    "    events = sorted(events, key=lambda e: e['norm_timestamp'])\n",
    "\n",
    "    for bin_index in range(num_bins):\n",
    "        current_bin_time = bin_width * bin_index\n",
    "        next_bin_time = bin_width * (bin_index + 1)\n",
    "\n",
    "        # move the event pointer until an event is in the future\n",
    "        while event_index < len(events) and events[event_index]['norm_timestamp'] < next_bin_time:\n",
    "            curr_event = events[event_index]['event']\n",
    "            curr_event_type_index = event_types.index(curr_event)\n",
    "            event_bins[curr_event_type_index, bin_index] = 1\n",
    "            event_index += 1\n",
    "\n",
    "    return event_bins"
   ]
  },
  {
   "cell_type": "code",
   "execution_count": 47,
   "id": "530cbb69",
   "metadata": {},
   "outputs": [],
   "source": [
    "events[0]['event'] = 'motor layout: 0' # change the being game to motor layout for convenience \n",
    "\n",
    "# First we need to label the data \n",
    "for event in events:\n",
    "    event['norm_timestamp'] /= fs  # fs to seconds \n",
    "    event['norm_timestamp'] *= 1000  # seconds to ms"
   ]
  },
  {
   "cell_type": "code",
   "execution_count": 62,
   "id": "3d4139d1",
   "metadata": {},
   "outputs": [],
   "source": [
    "event_types = ['ball missed', 'ball bounce', 'ball return', 'motor layout: 0'] # these are all the labels\n",
    "labels = torch.tensor(events_to_bins(events, event_types, 10, max_time_ms))"
   ]
  },
  {
   "cell_type": "code",
   "execution_count": 63,
   "id": "41c63717",
   "metadata": {},
   "outputs": [
    {
     "name": "stdout",
     "output_type": "stream",
     "text": [
      "torch.Size([4, 120002])\n",
      "torch.Size([100, 120002])\n"
     ]
    }
   ],
   "source": [
    "print(labels.shape)\n",
    "print(up1_spikes_binned.shape)"
   ]
  },
  {
   "cell_type": "code",
   "execution_count": 64,
   "id": "2c1613e5",
   "metadata": {},
   "outputs": [],
   "source": [
    "def transform_data(labels, spiketimes, events, bin_width, n_steps):\n",
    "    n_labels, _ = labels.shape\n",
    "    n_neurons, _ = spiketimes.shape\n",
    "    n_trials = len(events)\n",
    "\n",
    "    # Initialize new tensor\n",
    "    new_tensor = np.zeros((n_labels, n_neurons, n_steps * n_trials))\n",
    "\n",
    "    # Sort events based on 'norm_timestamp'\n",
    "    events = sorted(events, key=lambda e: e['norm_timestamp'])\n",
    "\n",
    "    # Iterate over trials\n",
    "    for i in range(n_trials):\n",
    "        # Get start index for this trial\n",
    "        start_index = int(events[i]['norm_timestamp'] / bin_width)\n",
    "\n",
    "        # Get data for this trial\n",
    "        for j in range(n_steps):\n",
    "            if start_index + j < labels.shape[1]:\n",
    "                new_tensor[:, :, i * n_steps + j] = labels[:, start_index + j] * spiketimes[:, start_index + j]\n",
    "            else:\n",
    "                # If there is no more data for this trial, fill with zeros\n",
    "                new_tensor[:, :, i * n_steps + j] = 0\n",
    "\n",
    "    return new_tensor\n"
   ]
  },
  {
   "cell_type": "code",
   "execution_count": 65,
   "id": "55ae0d7c",
   "metadata": {},
   "outputs": [
    {
     "ename": "RuntimeError",
     "evalue": "The size of tensor a (4) must match the size of tensor b (100) at non-singleton dimension 0",
     "output_type": "error",
     "traceback": [
      "\u001b[1;31m---------------------------------------------------------------------------\u001b[0m",
      "\u001b[1;31mRuntimeError\u001b[0m                              Traceback (most recent call last)",
      "\u001b[1;32mc:\\Users\\skorm\\Documents\\GitHub\\BrainDishSiMulator\\notebooks\\2023-07-05b_SNNTorch.ipynb Cell 14\u001b[0m in \u001b[0;36m<cell line: 1>\u001b[1;34m()\u001b[0m\n\u001b[1;32m----> <a href='vscode-notebook-cell:/c%3A/Users/skorm/Documents/GitHub/BrainDishSiMulator/notebooks/2023-07-05b_SNNTorch.ipynb#Y126sZmlsZQ%3D%3D?line=0'>1</a>\u001b[0m new_tensor \u001b[39m=\u001b[39m transform_data(labels, up1_spikes_binned, events, \u001b[39m10\u001b[39;49m, \u001b[39m10\u001b[39;49m)\n",
      "\u001b[1;32mc:\\Users\\skorm\\Documents\\GitHub\\BrainDishSiMulator\\notebooks\\2023-07-05b_SNNTorch.ipynb Cell 14\u001b[0m in \u001b[0;36mtransform_data\u001b[1;34m(labels, spiketimes, events, bin_width, n_steps)\u001b[0m\n\u001b[0;32m     <a href='vscode-notebook-cell:/c%3A/Users/skorm/Documents/GitHub/BrainDishSiMulator/notebooks/2023-07-05b_SNNTorch.ipynb#Y126sZmlsZQ%3D%3D?line=17'>18</a>\u001b[0m \u001b[39mfor\u001b[39;00m j \u001b[39min\u001b[39;00m \u001b[39mrange\u001b[39m(n_steps):\n\u001b[0;32m     <a href='vscode-notebook-cell:/c%3A/Users/skorm/Documents/GitHub/BrainDishSiMulator/notebooks/2023-07-05b_SNNTorch.ipynb#Y126sZmlsZQ%3D%3D?line=18'>19</a>\u001b[0m     \u001b[39mif\u001b[39;00m start_index \u001b[39m+\u001b[39m j \u001b[39m<\u001b[39m labels\u001b[39m.\u001b[39mshape[\u001b[39m1\u001b[39m]:\n\u001b[1;32m---> <a href='vscode-notebook-cell:/c%3A/Users/skorm/Documents/GitHub/BrainDishSiMulator/notebooks/2023-07-05b_SNNTorch.ipynb#Y126sZmlsZQ%3D%3D?line=19'>20</a>\u001b[0m         new_tensor[:, :, i \u001b[39m*\u001b[39m n_steps \u001b[39m+\u001b[39m j] \u001b[39m=\u001b[39m labels[:, start_index \u001b[39m+\u001b[39;49m j] \u001b[39m*\u001b[39;49m spiketimes[:, start_index \u001b[39m+\u001b[39;49m j]\n\u001b[0;32m     <a href='vscode-notebook-cell:/c%3A/Users/skorm/Documents/GitHub/BrainDishSiMulator/notebooks/2023-07-05b_SNNTorch.ipynb#Y126sZmlsZQ%3D%3D?line=20'>21</a>\u001b[0m     \u001b[39melse\u001b[39;00m:\n\u001b[0;32m     <a href='vscode-notebook-cell:/c%3A/Users/skorm/Documents/GitHub/BrainDishSiMulator/notebooks/2023-07-05b_SNNTorch.ipynb#Y126sZmlsZQ%3D%3D?line=21'>22</a>\u001b[0m         \u001b[39m# If there is no more data for this trial, fill with zeros\u001b[39;00m\n\u001b[0;32m     <a href='vscode-notebook-cell:/c%3A/Users/skorm/Documents/GitHub/BrainDishSiMulator/notebooks/2023-07-05b_SNNTorch.ipynb#Y126sZmlsZQ%3D%3D?line=22'>23</a>\u001b[0m         new_tensor[:, :, i \u001b[39m*\u001b[39m n_steps \u001b[39m+\u001b[39m j] \u001b[39m=\u001b[39m \u001b[39m0\u001b[39m\n",
      "\u001b[1;31mRuntimeError\u001b[0m: The size of tensor a (4) must match the size of tensor b (100) at non-singleton dimension 0"
     ]
    }
   ],
   "source": [
    "new_tensor = transform_data(labels, up1_spikes_binned, events, 10, 10)"
   ]
  },
  {
   "attachments": {},
   "cell_type": "markdown",
   "id": "1c5d7df7",
   "metadata": {},
   "source": [
    "### And now we can define the network"
   ]
  },
  {
   "cell_type": "code",
   "execution_count": null,
   "id": "07d876f9",
   "metadata": {},
   "outputs": [],
   "source": [
    "from snntorch import functional as SF"
   ]
  },
  {
   "cell_type": "code",
   "execution_count": null,
   "id": "9a9d428b",
   "metadata": {},
   "outputs": [],
   "source": [
    "npy_array = sensory_spikes_binned"
   ]
  },
  {
   "cell_type": "code",
   "execution_count": null,
   "id": "72d479bc",
   "metadata": {},
   "outputs": [
    {
     "data": {
      "text/plain": [
       "torch.Size([500, 120002])"
      ]
     },
     "execution_count": 8,
     "metadata": {},
     "output_type": "execute_result"
    }
   ],
   "source": [
    "npy_array.shape"
   ]
  },
  {
   "cell_type": "code",
   "execution_count": null,
   "id": "60b9c8a2",
   "metadata": {},
   "outputs": [
    {
     "ename": "FileNotFoundError",
     "evalue": "[Errno 2] No such file or directory: '/content/decoding_theta_bt4_data.npy'",
     "output_type": "error",
     "traceback": [
      "\u001b[1;31m---------------------------------------------------------------------------\u001b[0m",
      "\u001b[1;31mFileNotFoundError\u001b[0m                         Traceback (most recent call last)",
      "\u001b[1;32mc:\\Users\\skorm\\Documents\\GitHub\\BrainDishSiMulator\\notebooks\\2023-07-05b_SNNTorch.ipynb Cell 9\u001b[0m in \u001b[0;36m<cell line: 2>\u001b[1;34m()\u001b[0m\n\u001b[0;32m      <a href='vscode-notebook-cell:/c%3A/Users/skorm/Documents/GitHub/BrainDishSiMulator/notebooks/2023-07-05b_SNNTorch.ipynb#X44sZmlsZQ%3D%3D?line=0'>1</a>\u001b[0m \u001b[39m# Load the data from the .npy file\u001b[39;00m\n\u001b[1;32m----> <a href='vscode-notebook-cell:/c%3A/Users/skorm/Documents/GitHub/BrainDishSiMulator/notebooks/2023-07-05b_SNNTorch.ipynb#X44sZmlsZQ%3D%3D?line=1'>2</a>\u001b[0m npy_array \u001b[39m=\u001b[39m np\u001b[39m.\u001b[39;49mload(\u001b[39m'\u001b[39;49m\u001b[39m/content/decoding_theta_bt4_data.npy\u001b[39;49m\u001b[39m'\u001b[39;49m, allow_pickle\u001b[39m=\u001b[39;49m\u001b[39mTrue\u001b[39;49;00m)\n\u001b[0;32m      <a href='vscode-notebook-cell:/c%3A/Users/skorm/Documents/GitHub/BrainDishSiMulator/notebooks/2023-07-05b_SNNTorch.ipynb#X44sZmlsZQ%3D%3D?line=3'>4</a>\u001b[0m \u001b[39m# Print the shape of the loaded data\u001b[39;00m\n\u001b[0;32m      <a href='vscode-notebook-cell:/c%3A/Users/skorm/Documents/GitHub/BrainDishSiMulator/notebooks/2023-07-05b_SNNTorch.ipynb#X44sZmlsZQ%3D%3D?line=4'>5</a>\u001b[0m data \u001b[39m=\u001b[39m npy_array[\u001b[39m0\u001b[39m]\n",
      "File \u001b[1;32mc:\\Users\\skorm\\anaconda3\\lib\\site-packages\\numpy\\lib\\npyio.py:405\u001b[0m, in \u001b[0;36mload\u001b[1;34m(file, mmap_mode, allow_pickle, fix_imports, encoding, max_header_size)\u001b[0m\n\u001b[0;32m    403\u001b[0m     own_fid \u001b[39m=\u001b[39m \u001b[39mFalse\u001b[39;00m\n\u001b[0;32m    404\u001b[0m \u001b[39melse\u001b[39;00m:\n\u001b[1;32m--> 405\u001b[0m     fid \u001b[39m=\u001b[39m stack\u001b[39m.\u001b[39menter_context(\u001b[39mopen\u001b[39;49m(os_fspath(file), \u001b[39m\"\u001b[39;49m\u001b[39mrb\u001b[39;49m\u001b[39m\"\u001b[39;49m))\n\u001b[0;32m    406\u001b[0m     own_fid \u001b[39m=\u001b[39m \u001b[39mTrue\u001b[39;00m\n\u001b[0;32m    408\u001b[0m \u001b[39m# Code to distinguish from NumPy binary files and pickles.\u001b[39;00m\n",
      "\u001b[1;31mFileNotFoundError\u001b[0m: [Errno 2] No such file or directory: '/content/decoding_theta_bt4_data.npy'"
     ]
    }
   ],
   "source": [
    "# Load the data from the .npy file\n",
    "npy_array = np.load('/content/decoding_theta_bt4_data.npy', allow_pickle=True)\n",
    "\n",
    "# Print the shape of the loaded data\n",
    "data = npy_array[0]\n",
    "labels = npy_array[1]"
   ]
  },
  {
   "cell_type": "code",
   "execution_count": null,
   "id": "f828ee3f",
   "metadata": {},
   "outputs": [],
   "source": [
    "class CustomDataset(Dataset):\n",
    "    def __init__(self, data, labels):\n",
    "        self.data = data\n",
    "        self.labels = labels\n",
    "\n",
    "    def __len__(self):\n",
    "        return len(self.labels)\n",
    "\n",
    "    def __getitem__(self, idx):\n",
    "        return torch.tensor(self.data[:, idx, :], dtype=torch.float32), torch.tensor(self.labels[idx], dtype=torch.long)\n",
    "\n",
    "data = torch.from_numpy(data) # Shape (61, 360, 249)\n",
    "labels = torch.from_numpy(labels) # Shape (360,)\n",
    "\n",
    "# Create Dataset\n",
    "dataset = CustomDataset(data, labels)\n",
    "\n",
    "# Create DataLoader\n",
    "data_loader = DataLoader(dataset, batch_size=32, shuffle=True)  # Change batch_size as needed"
   ]
  },
  {
   "cell_type": "code",
   "execution_count": null,
   "id": "f59782b5",
   "metadata": {},
   "outputs": [],
   "source": [
    "# Define Network\n",
    "class Net(nn.Module):\n",
    "    def __init__(self):\n",
    "        super().__init__()\n",
    "\n",
    "        num_inputs = 249\n",
    "        num_hidden = 1000\n",
    "        num_outputs = 12\n",
    "        beta = 0.95\n",
    "\n",
    "        # Initialize layers\n",
    "        self.fc1 = nn.Linear(num_inputs, num_hidden)\n",
    "        self.lif1 = snn.Leaky(beta=beta)\n",
    "        self.fc2 = nn.Linear(num_hidden, num_outputs)\n",
    "        self.lif2 = snn.Leaky(beta=beta)\n",
    "\n",
    "    def forward(self, x):\n",
    "\n",
    "        # Initialize hidden states at t=0\n",
    "        mem1 = self.lif1.init_leaky()\n",
    "        mem2 = self.lif2.init_leaky()\n",
    "\n",
    "        # Record the final layer\n",
    "        spk2_rec = []\n",
    "        mem2_rec = []\n",
    "\n",
    "        for step in range(x.size(1)):\n",
    "            # print(x[:,step].size())\n",
    "            cur1 = self.fc1(x[:,step])\n",
    "            spk1, mem1 = self.lif1(cur1, mem1)\n",
    "            cur2 = self.fc2(spk1)\n",
    "            spk2, mem2 = self.lif2(cur2, mem2)\n",
    "            spk2_rec.append(spk2)\n",
    "            mem2_rec.append(mem2)\n",
    "\n",
    "        return torch.stack(spk2_rec, dim=0), torch.stack(mem2_rec, dim=0)\n",
    "\n",
    "\n",
    "# Load the network onto CUDA if available\n",
    "brain_net = Net().to(device)"
   ]
  },
  {
   "cell_type": "code",
   "execution_count": null,
   "id": "d0b1c494",
   "metadata": {},
   "outputs": [],
   "source": [
    "loss_fn = SF.ce_count_loss()\n",
    "optimizer = torch.optim.Adam(brain_net.parameters(), lr=1e-3, betas=(0.9, 0.999))\n",
    "\n",
    "num_epochs = 10\n",
    "loss_hist = []\n",
    "test_loss_hist = []\n",
    "counter = 0\n",
    "\n",
    "# Outer training loop\n",
    "for epoch in range(num_epochs):\n",
    "    train_batch = iter(data_loader)\n",
    "\n",
    "    # Minibatch training loop\n",
    "    for data, targets in train_batch:\n",
    "        data = data.to(device)\n",
    "        targets = targets.to(device)\n",
    "\n",
    "        # forward pass\n",
    "        brain_net.train()\n",
    "        spk_rec, _ = brain_net(data)\n",
    "\n",
    "        # initialize the loss & sum over time\n",
    "        loss_val = loss_fn(spk_rec, targets)\n",
    "\n",
    "        # Gradient calculation + weight update\n",
    "        optimizer.zero_grad()\n",
    "        loss_val.backward()\n",
    "        optimizer.step()\n",
    "\n",
    "        # Store loss history for future plotting\n",
    "        loss_hist.append(loss_val.item())\n",
    "\n",
    "        # Print train/test loss/accuracy\n",
    "        if counter % 10 == 0:\n",
    "            print(f\"Iteration: {counter} \\t Train Loss: {loss_val.item()}\")\n",
    "        counter += 1\n",
    "\n",
    "        if counter == 100:\n",
    "          break"
   ]
  }
 ],
 "metadata": {
  "kernelspec": {
   "display_name": "Python 3 (ipykernel)",
   "language": "python",
   "name": "python3"
  },
  "language_info": {
   "codemirror_mode": {
    "name": "ipython",
    "version": 3
   },
   "file_extension": ".py",
   "mimetype": "text/x-python",
   "name": "python",
   "nbconvert_exporter": "python",
   "pygments_lexer": "ipython3",
   "version": "3.9.12"
  }
 },
 "nbformat": 4,
 "nbformat_minor": 5
}
