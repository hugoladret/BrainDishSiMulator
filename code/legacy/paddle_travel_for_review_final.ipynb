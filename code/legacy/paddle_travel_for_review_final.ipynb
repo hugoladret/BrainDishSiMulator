{
 "cells": [
  {
   "cell_type": "code",
   "execution_count": 1,
   "id": "6e51d8b2",
   "metadata": {},
   "outputs": [],
   "source": [
    "from collections import namedtuple\n",
    "import struct\n",
    "import sys\n",
    "import os\n",
    "import pathlib\n",
    "import datetime\n",
    "import numpy as np\n",
    "import pandas as pd\n",
    "import seaborn as sns\n",
    "pd.set_option('display.max_rows', 250)\n",
    "import matplotlib.pyplot as plt\n",
    "import h5py\n",
    "import scipy\n",
    "import scipy.stats as sp\n",
    "from scipy import stats\n",
    "import warnings\n",
    "# for filename in os.listdir(os.getcwd()):\n",
    "import shutil\n",
    "from pathlib import Path\n",
    "from collections import defaultdict\n",
    "from datetime import datetime, date\n",
    "from operator import itemgetter\n",
    "from inspect import cleandoc\n",
    "from typing import TypeVar, Callable, Union, overload, NamedTuple, Iterable, Tuple, List, Dict, TextIO\n",
    "from typing_extensions import Literal\n",
    "from collections import defaultdict\n",
    "import pingouin as pg"
   ]
  },
  {
   "cell_type": "code",
   "execution_count": 2,
   "id": "temporal-relay",
   "metadata": {},
   "outputs": [],
   "source": [
    "def grabTag(name):\n",
    "    name = name.rsplit('.', 1)[0]\n",
    "    name = name + '.bin'\n",
    "    #print(name)\n",
    "    chip = New_tags_filenames[name]\n",
    "    tagName = chip.get('tag')\n",
    "    return tagName"
   ]
  },
  {
   "cell_type": "code",
   "execution_count": 3,
   "id": "e6fce2aa",
   "metadata": {},
   "outputs": [],
   "source": [
    "header_format = 'QII'\n",
    "header_struct_size = struct.calcsize(header_format)\n",
    "replay_magic = 0xffeeffeeffaaffaa\n",
    "\n",
    "FRAME_SKIP = 2\n",
    "\n",
    "ReplayHeader = namedtuple('ReplayHeader', [\n",
    "    'magic',\n",
    "    'version',\n",
    "    'frame_size'\n",
    "])\n",
    "\n",
    "frame_format = 'Qffffffhhhh'\n",
    "frame_struct_size = struct.calcsize(frame_format)\n",
    "\n",
    "ReplayFrame = namedtuple('ReplayFrame', [\n",
    "    'frame_no',\n",
    "    'bat_y',\n",
    "    'ball_x',\n",
    "    'ball_y',\n",
    "    'action',\n",
    "    'm1_baseline',\n",
    "    'm2_baseline',\n",
    "    'm1_activity',\n",
    "    'm2_activity',\n",
    "    'hit_count',\n",
    "    'miss_count'\n",
    "])\n",
    "\n",
    "def read_header(f):\n",
    "    buf = f.read(header_struct_size)\n",
    "    tup = struct.unpack(header_format, buf)\n",
    "    return ReplayHeader._make(tup)\n",
    "\n",
    "def read_frames(f):\n",
    "    while True:\n",
    "        buf = f.read(frame_struct_size)\n",
    "        if not buf:\n",
    "            break\n",
    "        tup = struct.unpack(frame_format, buf)\n",
    "        frame = ReplayFrame._make(tup)\n",
    "        yield frame"
   ]
  },
  {
   "cell_type": "code",
   "execution_count": 4,
   "id": "written-crawford",
   "metadata": {},
   "outputs": [
    {
     "ename": "NameError",
     "evalue": "name 'data' is not defined",
     "output_type": "error",
     "traceback": [
      "\u001b[1;31m---------------------------------------------------------------------------\u001b[0m",
      "\u001b[1;31mNameError\u001b[0m                                 Traceback (most recent call last)",
      "Input \u001b[1;32mIn [4]\u001b[0m, in \u001b[0;36m<cell line: 1>\u001b[1;34m()\u001b[0m\n\u001b[1;32m----> 1\u001b[0m \u001b[43mdata\u001b[49m\u001b[38;5;241m.\u001b[39mto_pickle(\u001b[38;5;124m'\u001b[39m\u001b[38;5;124mData/paddlemovement.pkl\u001b[39m\u001b[38;5;124m'\u001b[39m)\n",
      "\u001b[1;31mNameError\u001b[0m: name 'data' is not defined"
     ]
    }
   ],
   "source": [
    "data.to_pickle('Data/paddlemovement.pkl')"
   ]
  },
  {
   "cell_type": "code",
   "execution_count": null,
   "id": "analyzed-prevention",
   "metadata": {},
   "outputs": [],
   "source": [
    "data\n",
    "gdf = data\n",
    "group = gdf['tag'].str.contains('ctl', case = False)\n",
    "gdf['group'] = group.astype(int)\n",
    "gdf['group']= np.where((gdf['tag'].str.contains('GFP', case = False) | \n",
    "                        (gdf['tag'].str.contains('tdt', case = False))), 2, gdf['group'])\n",
    "gdf['group']= np.where((gdf['tag'].str.contains('in-silico', case = False)), 4, gdf['group'])\n",
    "gdf['group']= np.where((gdf['tag'].str.contains('ngn2', case = False)), 2, gdf['group'])\n",
    "gdf['group']= np.where((gdf['session']== '1') & (((gdf['group']== 0)) | \n",
    "                                                   ((gdf['group']== 2))), 3, gdf['group'])\n",
    "gdf['group']= np.where((gdf['session']== '3') & (((gdf['group']== 0)) | \n",
    "                                                   ((gdf['group']== 2))), 3, gdf['group'])\n",
    "\n",
    "gdf['distance'] = gdf['distance'].astype(float)\n",
    "gdf['group_name'] = 99\n",
    "gdf['group_name'] = np.where((gdf['group']== 0), \"MCC\", gdf['group_name'])\n",
    "gdf['group_name'] = np.where((gdf['group']== 1), \"CTL\", gdf['group_name'])\n",
    "gdf['group_name'] = np.where((gdf['group']== 2), \"HCC\", gdf['group_name'])\n",
    "gdf['group_name'] = np.where((gdf['group']== 3), \"RST\", gdf['group_name'])\n",
    "gdf['group_name'] = np.where((gdf['group']== 4), \"IS\", gdf['group_name'])\n",
    "gdf['group_name'] = np.where((gdf['group']== 5), \"NGN2\", gdf['group_name'])\n",
    "gdf['pltgroup'] = 99\n",
    "df1 = gdf.groupby(['group_name', 'tag', \"chip_id\", \"date\", 'session']).mean()\n",
    "df1 = df1.reset_index()\n",
    "df1['pltgroup'] = np.where((df1['group']== 0), \"3\", df1['pltgroup'])\n",
    "df1['pltgroup'] = np.where((df1['group']== 1), \"0\", df1['pltgroup'])\n",
    "df1['pltgroup'] = np.where((df1['group']== 2), \"4\", df1['pltgroup'])\n",
    "df1['pltgroup'] = np.where((df1['group']== 3), \"2\", df1['pltgroup'])\n",
    "df1['pltgroup'] = np.where((df1['group']== 4), \"1\", df1['pltgroup'])\n",
    "df1 = df1.sort_values(by=['pltgroup'])\n",
    "df = df1\n",
    "df['Zdistance'] = (df.distance - df.distance.mean())/df.distance.std(ddof=0) \n",
    "df['Zdistance'] = df['Zdistance'].abs()\n",
    "df = df[df.Zdistance <= 3]"
   ]
  },
  {
   "cell_type": "code",
   "execution_count": null,
   "id": "still-graduation",
   "metadata": {},
   "outputs": [],
   "source": [
    "check = df.groupby(['group']).agg(['mean','sem'])\n",
    "check"
   ]
  },
  {
   "cell_type": "code",
   "execution_count": null,
   "id": "proper-prize",
   "metadata": {
    "scrolled": false
   },
   "outputs": [],
   "source": [
    "check = gdf.groupby(['group']).agg(['mean','sem'])\n",
    "check"
   ]
  },
  {
   "cell_type": "code",
   "execution_count": null,
   "id": "legislative-vintage",
   "metadata": {},
   "outputs": [],
   "source": [
    "#box plot for long rallies\n",
    "\n",
    "labels = df.group_name.unique()\n",
    "x_pos = np.arange(len(labels))\n",
    "x = df['group_name']\n",
    "y = df['distance']\n",
    "sns.set(style=\"darkgrid\")\n",
    "ax = sns.boxplot(data=df, x=x, y=y, palette=\"Set2\", showfliers=False, showmeans = True, \n",
    "                 meanprops={\"markerfacecolor\":\"black\", \n",
    "                       \"markeredgecolor\":\"black\",\n",
    "                      \"markersize\":\"5\"})\n",
    "ax.set_xticks(x_pos)\n",
    "ax.set_xticklabels(labels)\n",
    "#ax.set_title('Pong Performance over Time With All Features')\n",
    "ax.set_ylabel('Average Paddle Movement (pixels)')\n",
    "ax.set_xlabel('Group')\n",
    "\n",
    "y, h, col = 90000, 1333, 'k'\n",
    "x00, x01 = 0, .2\n",
    "x10, x11 = 1, 1.2\n",
    "x20, x21 = 2, 2.2\n",
    "x30, x31 = 3, 3.2\n",
    "x40, x41 = 4, 4.2\n",
    "\n",
    "plt.text(x00, y-2.5, \"###\", ha='center', va='bottom', color=col,fontsize=8)\n",
    "plt.text(x10, y-2.5, \"###\", ha='center', va='bottom', color=col,fontsize=8)\n",
    "plt.text(x20, y-2.5, \"###\", ha='center', va='bottom', color=col,fontsize=8)\n",
    "\n",
    "plt.text(x00, y-6000, \"%%%\", ha='center', va='bottom', color=col,fontsize=8)\n",
    "plt.text(x10, y-6000, \"%%%\", ha='center', va='bottom', color=col,fontsize=8)\n",
    "plt.text(x20, y-6000, \"%%%\", ha='center', va='bottom', color=col,fontsize=8)\n",
    "\n",
    "\n",
    "plt.text(x00, y-12000, \"@@@\", ha='center', va='bottom', color=col,fontsize=8)\n",
    "plt.text(x20, y-12000, \"@@@\", ha='center', va='bottom', color=col,fontsize=8)\n",
    "plt.text(x20, y-18000, \"^^\", ha='center', va='bottom', color=col,fontsize=8)\n",
    "\n",
    "\n",
    "\n",
    "\n",
    "\n",
    "sns.set(rc={'figure.figsize':(3,3)})\n",
    "plt.savefig('/home/jovyan/work/dishpill/Analysis/Plots/paddlemove.pdf', bbox_inches='tight') "
   ]
  },
  {
   "cell_type": "code",
   "execution_count": null,
   "id": "corrected-luxembourg",
   "metadata": {},
   "outputs": [],
   "source": [
    "pg.anova(data=df, dv=('distance'), between='group', detailed = True)"
   ]
  },
  {
   "cell_type": "code",
   "execution_count": null,
   "id": "stunning-baker",
   "metadata": {},
   "outputs": [],
   "source": [
    "pg.pairwise_gameshowell(data =df, dv='distance', between='group_name').round(5)"
   ]
  },
  {
   "cell_type": "code",
   "execution_count": null,
   "id": "43866c27",
   "metadata": {},
   "outputs": [],
   "source": [
    "Pdf = df\n",
    "Sdf = pd.read_pickle('Data/in_vitro_cells_sentience_corr.pkl')\n",
    "Sdf = Sdf.rename(columns={\"session_num\": \"session\"})"
   ]
  },
  {
   "cell_type": "code",
   "execution_count": null,
   "id": "worse-publication",
   "metadata": {},
   "outputs": [],
   "source": [
    "Sdf['group_name'] = 99\n",
    "Sdf['group_name'] = np.where((Sdf['group']== 0), \"MCC\", Sdf['group_name'])\n",
    "Sdf['group_name'] = np.where((Sdf['group']== 1), \"CTL\", Sdf['group_name'])\n",
    "Sdf['group_name'] = np.where((Sdf['group']== 2), \"HCC\", Sdf['group_name'])\n",
    "Sdf['group_name'] = np.where((Sdf['group']== 3), \"RST\", Sdf['group_name'])\n",
    "Sdf['group_name'] = np.where((Sdf['group']== 4), \"IS\", Sdf['group_name'])\n",
    "Sdf['group_name'] = np.where((Sdf['group']== 5), \"NGN2\", Sdf['group_name'])\n",
    "Sdf['pltgroup'] = 99\n",
    "Sdf = Sdf.groupby(['group_name', 'tag', \"chip_id\", \"date\", 'session']).mean()\n",
    "Sdf = Sdf.reset_index()\n",
    "Sdf['pltgroup'] = np.where((Sdf['group']== 0), \"3\", Sdf['pltgroup'])\n",
    "Sdf['pltgroup'] = np.where((Sdf['group']== 1), \"0\", Sdf['pltgroup'])\n",
    "Sdf['pltgroup'] = np.where((Sdf['group']== 2), \"4\", Sdf['pltgroup'])\n",
    "Sdf['pltgroup'] = np.where((Sdf['group']== 3), \"2\", Sdf['pltgroup'])\n",
    "Sdf['pltgroup'] = np.where((Sdf['group']== 4), \"1\", Sdf['pltgroup'])\n",
    "Sdf = Sdf.sort_values(by=['pltgroup'])"
   ]
  },
  {
   "cell_type": "code",
   "execution_count": null,
   "id": "healthy-serum",
   "metadata": {},
   "outputs": [],
   "source": [
    "Pdf['chip_id'] = Pdf['chip_id'].map(lambda x: ''.join([i for i in x if i.isdigit()]))\n",
    "Pdf['date'] = pd.to_datetime(Pdf['date'])\n",
    "Sdf['date'] = pd.to_datetime(Sdf['date'])\n",
    "Pdf['session'] = pd.to_numeric(Pdf['session'])\n",
    "Sdf['session'] = pd.to_numeric(Sdf['session'])\n",
    "Pdf['session'] = Pdf['session'].astype('int64')\n",
    "Sdf['session'] = Sdf['session'].astype('int64')\n",
    "Pdf['chip_id'] = Pdf['chip_id'].astype('int64')\n",
    "Sdf['chip_id'] = Sdf['chip_id'].astype('int64')\n"
   ]
  },
  {
   "cell_type": "code",
   "execution_count": null,
   "id": "educational-commodity",
   "metadata": {},
   "outputs": [],
   "source": [
    "alldf = Sdf.merge(Pdf, how='inner', on = ['group', 'chip_id', 'date', 'session'])\n"
   ]
  },
  {
   "cell_type": "code",
   "execution_count": null,
   "id": "intimate-generator",
   "metadata": {},
   "outputs": [],
   "source": [
    "alldf.group_name_x.unique()"
   ]
  },
  {
   "cell_type": "code",
   "execution_count": null,
   "id": "emotional-memphis",
   "metadata": {
    "scrolled": true
   },
   "outputs": [],
   "source": [
    "corr = alldf#[((alldf.group == 0) | (alldf.group == 2))]\n",
    "pg.pairwise_corr(corr, method='pearson', columns=['hit_count']).round(3)"
   ]
  },
  {
   "cell_type": "code",
   "execution_count": null,
   "id": "frequent-sunset",
   "metadata": {},
   "outputs": [],
   "source": [
    "x = alldf['distance']\n",
    "y = alldf['hit_count']\n",
    "f, ax = plt.subplots()\n",
    "#ax.xaxis.update_units(x)\n",
    "sns.regplot(x=x, y=y, line_kws={\"color\": \"red\"})\n",
    "sns.set(style=\"darkgrid\")\n",
    "#ax.set_xlim([-1, 6])\n",
    "ax.set_ylabel('Average Rally Length')\n",
    "ax.set_xlabel('Average Distance Paddle Travels (pixels)')\n",
    "ax.grid(False)\n",
    "sns.set(rc={'figure.figsize':(3,3)})\n",
    "plt.savefig('/home/jovyan/work/dishpill/Analysis/Plots/distancereg.pdf', bbox_inches='tight') "
   ]
  },
  {
   "cell_type": "code",
   "execution_count": null,
   "id": "fitting-quebec",
   "metadata": {},
   "outputs": [],
   "source": []
  }
 ],
 "metadata": {
  "kernelspec": {
   "display_name": "Python 3 (ipykernel)",
   "language": "python",
   "name": "python3"
  },
  "language_info": {
   "codemirror_mode": {
    "name": "ipython",
    "version": 3
   },
   "file_extension": ".py",
   "mimetype": "text/x-python",
   "name": "python",
   "nbconvert_exporter": "python",
   "pygments_lexer": "ipython3",
   "version": "3.9.12"
  }
 },
 "nbformat": 4,
 "nbformat_minor": 5
}
